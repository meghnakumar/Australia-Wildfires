{
  "cells": [
    {
      "cell_type": "markdown",
      "metadata": {
        "id": "3swiValoUu5U"
      },
      "source": [
        "<h1><center>CSCI - 4146 & 6409 - The Process of Data Science - Summer 2022</h1></center>\n",
        "<h1><center>Assignment 1</h1></center>\n",
        "\n",
        "<b>Meghna Kumar</b>  \n",
        "B00892970 \n",
        "\n",
        "<b>Vatsal Yadav</b>  \n",
        "B00893030  "
      ]
    },
    {
      "cell_type": "markdown",
      "metadata": {
        "id": "dm4068tkVkZ4"
      },
      "source": [
        "### 1.Data Exploration and preprocessing"
      ]
    },
    {
      "cell_type": "markdown",
      "source": [
        "1. Data Quality Report"
      ],
      "metadata": {
        "id": "A4vl1j4bJ7qm"
      }
    },
    {
      "cell_type": "markdown",
      "source": [
        "- Read all csv files from the provided dataset for \"Australia and Investigative special wildfires data\" <a href='https://www.kaggle.com/datasets/brsdincer/australia-and-investigative-special-wildfires-data'>[1]</a> and merge to create a dataframe."
      ],
      "metadata": {
        "id": "DSgsc8H1KBIm"
      }
    },
    {
      "cell_type": "code",
      "source": [
        "import pandas as pnd\n",
        "import numpy as np\n",
        "\n",
        "# to store multiple files\n",
        "import glob\n",
        "\n",
        "#to ignore waenings\n",
        "import warnings\n",
        "warnings.simplefilter(action='ignore', category=FutureWarning)\n",
        "warnings.simplefilter(action='ignore', category=UserWarning)\n",
        "\n",
        "#to plot graphs and maps\n",
        "from matplotlib import pyplot as plt\n",
        "import seaborn as sns\n",
        "import folium\n",
        "from folium.plugins import HeatMap\n",
        "\n",
        "from sklearn.utils import shuffle\n",
        "from sklearn.model_selection import train_test_split\n",
        "from sklearn import linear_model\n",
        "from sklearn.model_selection import learning_curve\n",
        "\n",
        "from math import sqrt\n",
        "# Evaluation Metrics\n",
        "from sklearn.metrics import mean_squared_error as mse\n",
        "from sklearn.metrics import r2_score as rs\n",
        "from sklearn.metrics import mean_absolute_error as mae\n",
        "\n",
        "# Random Forest Algorithm\n",
        "from sklearn.model_selection import RandomizedSearchCV\n",
        "from sklearn.tree import DecisionTreeRegressor\n",
        "\n",
        "#To perform statistical significance test\n",
        "from mlxtend.evaluate import paired_ttest_5x2cv"
      ],
      "metadata": {
        "id": "T7u2YQhMowUW"
      },
      "execution_count": 1,
      "outputs": []
    },
    {
      "cell_type": "code",
      "execution_count": 2,
      "metadata": {
        "colab": {
          "base_uri": "https://localhost:8080/"
        },
        "id": "CxXFb3qJUbQs",
        "vscode": {
          "languageId": "python"
        },
        "outputId": "f1aeb96c-57cd-4ecb-a785-a5cc958cd96d"
      },
      "outputs": [
        {
          "output_type": "stream",
          "name": "stdout",
          "text": [
            "<class 'pandas.core.frame.DataFrame'>\n",
            "RangeIndex: 1046679 entries, 0 to 1046678\n",
            "Data columns (total 15 columns):\n",
            " #   Column      Non-Null Count    Dtype  \n",
            "---  ------      --------------    -----  \n",
            " 0   latitude    1046679 non-null  Float64\n",
            " 1   longitude   1046679 non-null  Float64\n",
            " 2   brightness  1046679 non-null  Float64\n",
            " 3   scan        1046679 non-null  Float64\n",
            " 4   track       1046679 non-null  Float64\n",
            " 5   acq_date    1046679 non-null  string \n",
            " 6   acq_time    1046679 non-null  Int64  \n",
            " 7   satellite   1046679 non-null  string \n",
            " 8   instrument  1046679 non-null  string \n",
            " 9   confidence  1046679 non-null  Int64  \n",
            " 10  version     1046679 non-null  Float64\n",
            " 11  bright_t31  1046679 non-null  Float64\n",
            " 12  frp         1046679 non-null  Float64\n",
            " 13  daynight    1046679 non-null  string \n",
            " 14  type        1046679 non-null  Int64  \n",
            "dtypes: Float64(8), Int64(3), string(4)\n",
            "memory usage: 130.8 MB\n"
          ]
        }
      ],
      "source": [
        "# Set options to avoid truncation when displaying a dataframe\n",
        "# Code Reference: This code has been taken from CSCI 6709 Process of Data Science Tutorial 2 [2]\n",
        "# Code Reference: https://stackoverflow.com/questions/20906474/import-multiple-csv-files-into-pandas-and-concatenate-into-one-dataframe [3]\n",
        "pnd.set_option(\"display.max_rows\", None)\n",
        "pnd.set_option(\"display.max_columns\", None)\n",
        "pnd.set_option('display.float_format', '{:.2f}'.format)\n",
        "\n",
        "df=[]\n",
        "filePath=\"/\"\n",
        "files=glob.glob(filePath+\"/*.csv\")\n",
        "\n",
        "for file in files:\n",
        "  df.append(pnd.read_csv(file))\n",
        "\n",
        "data_frame=pnd.concat(df,ignore_index=True)\n",
        "\n",
        "data_frame = data_frame.convert_dtypes()\n",
        "data_frame.info()"
      ]
    },
    {
      "cell_type": "markdown",
      "source": [
        "> **a. Data quality reports for the continuous features and categorical features by using code from Tutorial 2 - CSCI-6409 Process of Data Science.**\n",
        "\n",
        "\n"
      ],
      "metadata": {
        "id": "Bw-uDsExNGA2"
      }
    },
    {
      "cell_type": "markdown",
      "source": [
        "\n",
        "\n",
        "*   Continuous Features"
      ],
      "metadata": {
        "id": "ui-rVJtWOc46"
      }
    },
    {
      "cell_type": "code",
      "source": [
        "#Code Reference: This code has been taken from CSCI 6709 Process of Data Science Tutorial 2 [2]\n",
        "def build_continuous_features_report(data_df):\n",
        "    \n",
        "    \"\"\"Build tabular report for continuous features\"\"\"\n",
        "\n",
        "    stats = {\n",
        "        \"Count\": len,\n",
        "        \"Miss %\": lambda df: df.isna().sum() / len(df) * 100,\n",
        "        \"Card.\": lambda df: df.nunique(),\n",
        "        \"Min\": lambda df: df.min(),\n",
        "        \"1st Qrt.\": lambda df: df.quantile(0.25),\n",
        "        \"Mean\": lambda df: df.mean(),\n",
        "        \"Median\": lambda df: df.median(),\n",
        "        \"3rd Qrt\": lambda df: df.quantile(0.75),\n",
        "        \"Max\": lambda df: df.max(),\n",
        "        \"Std. Dev.\": lambda df: df.std(),\n",
        "    }\n",
        "\n",
        "    contin_feat_names = data_df.select_dtypes(\"number\").columns\n",
        "    continuous_data_df = data_df[contin_feat_names]\n",
        "\n",
        "    report_df = pnd.DataFrame(index=contin_feat_names, columns=stats.keys())\n",
        "\n",
        "    for stat_name, fn in stats.items():\n",
        "        # NOTE: ignore warnings for empty features\n",
        "        with warnings.catch_warnings():\n",
        "            warnings.simplefilter(\"ignore\", category=RuntimeWarning)\n",
        "            report_df[stat_name] = fn(continuous_data_df)\n",
        "\n",
        "    return report_df"
      ],
      "metadata": {
        "id": "hk8fQ6q1NKN1"
      },
      "execution_count": 3,
      "outputs": []
    },
    {
      "cell_type": "code",
      "source": [
        "build_continuous_features_report(data_frame)"
      ],
      "metadata": {
        "id": "r3aaIvL3N1wi",
        "colab": {
          "base_uri": "https://localhost:8080/",
          "height": 394
        },
        "outputId": "6639e038-0cd1-49ba-fc2e-4e44f57f6ba3"
      },
      "execution_count": 4,
      "outputs": [
        {
          "output_type": "execute_result",
          "data": {
            "text/plain": [
              "              Count  Miss %   Card.    Min  1st Qrt.   Mean  Median  3rd Qrt  \\\n",
              "latitude    1046679    0.00  259382 -43.50    -28.77 -21.96  -19.92   -15.30   \n",
              "longitude   1046679    0.00  325532 113.13    126.80 135.25  133.14   144.96   \n",
              "brightness  1046679    0.00    2050 300.00    317.90 332.88  328.70   341.60   \n",
              "scan        1046679    0.00      39   1.00      1.10   1.66    1.30     1.90   \n",
              "track       1046679    0.00      11   1.00      1.00   1.23    1.10     1.40   \n",
              "acq_time    1046679    0.00     855   0.00    225.00 622.02  444.00   629.00   \n",
              "confidence  1046679    0.00     101   0.00     56.00  71.06   74.00    90.00   \n",
              "version     1046679    0.00       2   6.03      6.03   6.07    6.03     6.20   \n",
              "bright_t31  1046679    0.00     972 265.70    295.90 303.23  303.00   309.80   \n",
              "frp         1046679    0.00   13993 -29.90     14.60  70.50   28.60    63.50   \n",
              "type        1046679    0.00       3   0.00      0.00   0.01    0.00     0.00   \n",
              "\n",
              "                Max  Std. Dev.  \n",
              "latitude      -9.25       7.79  \n",
              "longitude    153.59      10.52  \n",
              "brightness   507.00      23.11  \n",
              "scan           4.80       0.85  \n",
              "track          2.00       0.26  \n",
              "acq_time    2359.00     532.04  \n",
              "confidence   100.00      22.92  \n",
              "version        6.20       0.07  \n",
              "bright_t31   400.10      10.73  \n",
              "frp        11164.10     169.47  \n",
              "type           3.00       0.17  "
            ],
            "text/html": [
              "\n",
              "  <div id=\"df-a8980bf9-188e-4127-a880-6b5eb4066f74\">\n",
              "    <div class=\"colab-df-container\">\n",
              "      <div>\n",
              "<style scoped>\n",
              "    .dataframe tbody tr th:only-of-type {\n",
              "        vertical-align: middle;\n",
              "    }\n",
              "\n",
              "    .dataframe tbody tr th {\n",
              "        vertical-align: top;\n",
              "    }\n",
              "\n",
              "    .dataframe thead th {\n",
              "        text-align: right;\n",
              "    }\n",
              "</style>\n",
              "<table border=\"1\" class=\"dataframe\">\n",
              "  <thead>\n",
              "    <tr style=\"text-align: right;\">\n",
              "      <th></th>\n",
              "      <th>Count</th>\n",
              "      <th>Miss %</th>\n",
              "      <th>Card.</th>\n",
              "      <th>Min</th>\n",
              "      <th>1st Qrt.</th>\n",
              "      <th>Mean</th>\n",
              "      <th>Median</th>\n",
              "      <th>3rd Qrt</th>\n",
              "      <th>Max</th>\n",
              "      <th>Std. Dev.</th>\n",
              "    </tr>\n",
              "  </thead>\n",
              "  <tbody>\n",
              "    <tr>\n",
              "      <th>latitude</th>\n",
              "      <td>1046679</td>\n",
              "      <td>0.00</td>\n",
              "      <td>259382</td>\n",
              "      <td>-43.50</td>\n",
              "      <td>-28.77</td>\n",
              "      <td>-21.96</td>\n",
              "      <td>-19.92</td>\n",
              "      <td>-15.30</td>\n",
              "      <td>-9.25</td>\n",
              "      <td>7.79</td>\n",
              "    </tr>\n",
              "    <tr>\n",
              "      <th>longitude</th>\n",
              "      <td>1046679</td>\n",
              "      <td>0.00</td>\n",
              "      <td>325532</td>\n",
              "      <td>113.13</td>\n",
              "      <td>126.80</td>\n",
              "      <td>135.25</td>\n",
              "      <td>133.14</td>\n",
              "      <td>144.96</td>\n",
              "      <td>153.59</td>\n",
              "      <td>10.52</td>\n",
              "    </tr>\n",
              "    <tr>\n",
              "      <th>brightness</th>\n",
              "      <td>1046679</td>\n",
              "      <td>0.00</td>\n",
              "      <td>2050</td>\n",
              "      <td>300.00</td>\n",
              "      <td>317.90</td>\n",
              "      <td>332.88</td>\n",
              "      <td>328.70</td>\n",
              "      <td>341.60</td>\n",
              "      <td>507.00</td>\n",
              "      <td>23.11</td>\n",
              "    </tr>\n",
              "    <tr>\n",
              "      <th>scan</th>\n",
              "      <td>1046679</td>\n",
              "      <td>0.00</td>\n",
              "      <td>39</td>\n",
              "      <td>1.00</td>\n",
              "      <td>1.10</td>\n",
              "      <td>1.66</td>\n",
              "      <td>1.30</td>\n",
              "      <td>1.90</td>\n",
              "      <td>4.80</td>\n",
              "      <td>0.85</td>\n",
              "    </tr>\n",
              "    <tr>\n",
              "      <th>track</th>\n",
              "      <td>1046679</td>\n",
              "      <td>0.00</td>\n",
              "      <td>11</td>\n",
              "      <td>1.00</td>\n",
              "      <td>1.00</td>\n",
              "      <td>1.23</td>\n",
              "      <td>1.10</td>\n",
              "      <td>1.40</td>\n",
              "      <td>2.00</td>\n",
              "      <td>0.26</td>\n",
              "    </tr>\n",
              "    <tr>\n",
              "      <th>acq_time</th>\n",
              "      <td>1046679</td>\n",
              "      <td>0.00</td>\n",
              "      <td>855</td>\n",
              "      <td>0.00</td>\n",
              "      <td>225.00</td>\n",
              "      <td>622.02</td>\n",
              "      <td>444.00</td>\n",
              "      <td>629.00</td>\n",
              "      <td>2359.00</td>\n",
              "      <td>532.04</td>\n",
              "    </tr>\n",
              "    <tr>\n",
              "      <th>confidence</th>\n",
              "      <td>1046679</td>\n",
              "      <td>0.00</td>\n",
              "      <td>101</td>\n",
              "      <td>0.00</td>\n",
              "      <td>56.00</td>\n",
              "      <td>71.06</td>\n",
              "      <td>74.00</td>\n",
              "      <td>90.00</td>\n",
              "      <td>100.00</td>\n",
              "      <td>22.92</td>\n",
              "    </tr>\n",
              "    <tr>\n",
              "      <th>version</th>\n",
              "      <td>1046679</td>\n",
              "      <td>0.00</td>\n",
              "      <td>2</td>\n",
              "      <td>6.03</td>\n",
              "      <td>6.03</td>\n",
              "      <td>6.07</td>\n",
              "      <td>6.03</td>\n",
              "      <td>6.20</td>\n",
              "      <td>6.20</td>\n",
              "      <td>0.07</td>\n",
              "    </tr>\n",
              "    <tr>\n",
              "      <th>bright_t31</th>\n",
              "      <td>1046679</td>\n",
              "      <td>0.00</td>\n",
              "      <td>972</td>\n",
              "      <td>265.70</td>\n",
              "      <td>295.90</td>\n",
              "      <td>303.23</td>\n",
              "      <td>303.00</td>\n",
              "      <td>309.80</td>\n",
              "      <td>400.10</td>\n",
              "      <td>10.73</td>\n",
              "    </tr>\n",
              "    <tr>\n",
              "      <th>frp</th>\n",
              "      <td>1046679</td>\n",
              "      <td>0.00</td>\n",
              "      <td>13993</td>\n",
              "      <td>-29.90</td>\n",
              "      <td>14.60</td>\n",
              "      <td>70.50</td>\n",
              "      <td>28.60</td>\n",
              "      <td>63.50</td>\n",
              "      <td>11164.10</td>\n",
              "      <td>169.47</td>\n",
              "    </tr>\n",
              "    <tr>\n",
              "      <th>type</th>\n",
              "      <td>1046679</td>\n",
              "      <td>0.00</td>\n",
              "      <td>3</td>\n",
              "      <td>0.00</td>\n",
              "      <td>0.00</td>\n",
              "      <td>0.01</td>\n",
              "      <td>0.00</td>\n",
              "      <td>0.00</td>\n",
              "      <td>3.00</td>\n",
              "      <td>0.17</td>\n",
              "    </tr>\n",
              "  </tbody>\n",
              "</table>\n",
              "</div>\n",
              "      <button class=\"colab-df-convert\" onclick=\"convertToInteractive('df-a8980bf9-188e-4127-a880-6b5eb4066f74')\"\n",
              "              title=\"Convert this dataframe to an interactive table.\"\n",
              "              style=\"display:none;\">\n",
              "        \n",
              "  <svg xmlns=\"http://www.w3.org/2000/svg\" height=\"24px\"viewBox=\"0 0 24 24\"\n",
              "       width=\"24px\">\n",
              "    <path d=\"M0 0h24v24H0V0z\" fill=\"none\"/>\n",
              "    <path d=\"M18.56 5.44l.94 2.06.94-2.06 2.06-.94-2.06-.94-.94-2.06-.94 2.06-2.06.94zm-11 1L8.5 8.5l.94-2.06 2.06-.94-2.06-.94L8.5 2.5l-.94 2.06-2.06.94zm10 10l.94 2.06.94-2.06 2.06-.94-2.06-.94-.94-2.06-.94 2.06-2.06.94z\"/><path d=\"M17.41 7.96l-1.37-1.37c-.4-.4-.92-.59-1.43-.59-.52 0-1.04.2-1.43.59L10.3 9.45l-7.72 7.72c-.78.78-.78 2.05 0 2.83L4 21.41c.39.39.9.59 1.41.59.51 0 1.02-.2 1.41-.59l7.78-7.78 2.81-2.81c.8-.78.8-2.07 0-2.86zM5.41 20L4 18.59l7.72-7.72 1.47 1.35L5.41 20z\"/>\n",
              "  </svg>\n",
              "      </button>\n",
              "      \n",
              "  <style>\n",
              "    .colab-df-container {\n",
              "      display:flex;\n",
              "      flex-wrap:wrap;\n",
              "      gap: 12px;\n",
              "    }\n",
              "\n",
              "    .colab-df-convert {\n",
              "      background-color: #E8F0FE;\n",
              "      border: none;\n",
              "      border-radius: 50%;\n",
              "      cursor: pointer;\n",
              "      display: none;\n",
              "      fill: #1967D2;\n",
              "      height: 32px;\n",
              "      padding: 0 0 0 0;\n",
              "      width: 32px;\n",
              "    }\n",
              "\n",
              "    .colab-df-convert:hover {\n",
              "      background-color: #E2EBFA;\n",
              "      box-shadow: 0px 1px 2px rgba(60, 64, 67, 0.3), 0px 1px 3px 1px rgba(60, 64, 67, 0.15);\n",
              "      fill: #174EA6;\n",
              "    }\n",
              "\n",
              "    [theme=dark] .colab-df-convert {\n",
              "      background-color: #3B4455;\n",
              "      fill: #D2E3FC;\n",
              "    }\n",
              "\n",
              "    [theme=dark] .colab-df-convert:hover {\n",
              "      background-color: #434B5C;\n",
              "      box-shadow: 0px 1px 3px 1px rgba(0, 0, 0, 0.15);\n",
              "      filter: drop-shadow(0px 1px 2px rgba(0, 0, 0, 0.3));\n",
              "      fill: #FFFFFF;\n",
              "    }\n",
              "  </style>\n",
              "\n",
              "      <script>\n",
              "        const buttonEl =\n",
              "          document.querySelector('#df-a8980bf9-188e-4127-a880-6b5eb4066f74 button.colab-df-convert');\n",
              "        buttonEl.style.display =\n",
              "          google.colab.kernel.accessAllowed ? 'block' : 'none';\n",
              "\n",
              "        async function convertToInteractive(key) {\n",
              "          const element = document.querySelector('#df-a8980bf9-188e-4127-a880-6b5eb4066f74');\n",
              "          const dataTable =\n",
              "            await google.colab.kernel.invokeFunction('convertToInteractive',\n",
              "                                                     [key], {});\n",
              "          if (!dataTable) return;\n",
              "\n",
              "          const docLinkHtml = 'Like what you see? Visit the ' +\n",
              "            '<a target=\"_blank\" href=https://colab.research.google.com/notebooks/data_table.ipynb>data table notebook</a>'\n",
              "            + ' to learn more about interactive tables.';\n",
              "          element.innerHTML = '';\n",
              "          dataTable['output_type'] = 'display_data';\n",
              "          await google.colab.output.renderOutput(dataTable, element);\n",
              "          const docLink = document.createElement('div');\n",
              "          docLink.innerHTML = docLinkHtml;\n",
              "          element.appendChild(docLink);\n",
              "        }\n",
              "      </script>\n",
              "    </div>\n",
              "  </div>\n",
              "  "
            ]
          },
          "metadata": {},
          "execution_count": 4
        }
      ]
    },
    {
      "cell_type": "markdown",
      "source": [
        "> Observations\n",
        "> * The maximum value of 'frp' is 11164.10\n",
        "> * The features with lowest cardinalities are 'version' and 'type' with a cardinality of 2 and 3 respectively.\n",
        "> * Version has the lowest standard deviation\n",
        "> * Since the count value is same for all the features it can be inferred that there are no missing values for any of them"
      ],
      "metadata": {
        "id": "Ydi3ChaRWSOZ"
      }
    },
    {
      "cell_type": "markdown",
      "source": [
        "*   Categorical features"
      ],
      "metadata": {
        "id": "9rRZUALYOJLh"
      }
    },
    {
      "cell_type": "code",
      "source": [
        "#Code Reference: This code has been taken from CSCI 6709 Process of Data Science Tutorial 2 [2]\n",
        "def build_categorical_features_report(data_df):\n",
        "\n",
        "    \"\"\"Build tabular report for categorical features\"\"\"\n",
        "\n",
        "    def _mode(df):\n",
        "        return df.apply(lambda ft: ft.mode().to_list()).T\n",
        "\n",
        "    def _mode_freq(df):\n",
        "        return df.apply(lambda ft: ft.value_counts()[ft.mode()].sum())\n",
        "\n",
        "    def _second_mode(df):\n",
        "        return df.apply(lambda ft: ft[~ft.isin(ft.mode())].mode().to_list())\n",
        "\n",
        "    def _second_mode_freq(df):\n",
        "        return df.apply(\n",
        "            lambda ft: ft[~ft.isin(ft.mode())]\n",
        "            .value_counts()[ft[~ft.isin(ft.mode())].mode()]\n",
        "            .sum()\n",
        "        )\n",
        "\n",
        "    stats = {\n",
        "        \"Count\": len,\n",
        "        \"Miss %\": lambda df: df.isna().sum() / len(df) * 100,\n",
        "        \"Card.\": lambda df: df.nunique(),\n",
        "        \"Mode\": _mode,\n",
        "        \"Mode Freq\": _mode_freq,\n",
        "        \"Mode %\": lambda df: _mode_freq(df) / len(df) * 100,\n",
        "        \"2nd Mode\": _second_mode,\n",
        "        \"2nd Mode Freq\": _second_mode_freq,\n",
        "        \"2nd Mode %\": lambda df: _second_mode_freq(df) / len(df) * 100,\n",
        "    }\n",
        "\n",
        "    cat_feat_names = data_df.select_dtypes(exclude=\"number\").columns\n",
        "    continuous_data_df = data_df[cat_feat_names]\n",
        "\n",
        "    report_df = pnd.DataFrame(index=cat_feat_names, columns=stats.keys())\n",
        "\n",
        "    for stat_name, fn in stats.items():\n",
        "        # NOTE: ignore warnings for empty features\n",
        "        with warnings.catch_warnings():\n",
        "            warnings.simplefilter(\"ignore\", category=RuntimeWarning)\n",
        "            report_df[stat_name] = fn(continuous_data_df)\n",
        "\n",
        "    return report_df"
      ],
      "metadata": {
        "id": "dXuwxJBaOnaa"
      },
      "execution_count": 5,
      "outputs": []
    },
    {
      "cell_type": "code",
      "source": [
        "build_categorical_features_report(data_frame)"
      ],
      "metadata": {
        "colab": {
          "base_uri": "https://localhost:8080/",
          "height": 175
        },
        "id": "Pf95lECOOr3z",
        "outputId": "f9c09d1b-d438-41f7-cb26-fb42f7a16016"
      },
      "execution_count": 6,
      "outputs": [
        {
          "output_type": "execute_result",
          "data": {
            "text/plain": [
              "              Count  Miss %  Card.        Mode  Mode Freq  Mode %  \\\n",
              "acq_date    1046679    0.00   1461  2020-01-04       7351    0.70   \n",
              "satellite   1046679    0.00      2        Aqua     600236   57.35   \n",
              "instrument  1046679    0.00      1       MODIS    1046679  100.00   \n",
              "daynight    1046679    0.00      2           D     806375   77.04   \n",
              "\n",
              "                2nd Mode  2nd Mode Freq  2nd Mode %  \n",
              "acq_date    [2019-12-30]           6925        0.66  \n",
              "satellite        [Terra]         446443       42.65  \n",
              "instrument            []              0        0.00  \n",
              "daynight             [N]         240304       22.96  "
            ],
            "text/html": [
              "\n",
              "  <div id=\"df-985a5673-3e07-4a9a-9669-d8789158eb72\">\n",
              "    <div class=\"colab-df-container\">\n",
              "      <div>\n",
              "<style scoped>\n",
              "    .dataframe tbody tr th:only-of-type {\n",
              "        vertical-align: middle;\n",
              "    }\n",
              "\n",
              "    .dataframe tbody tr th {\n",
              "        vertical-align: top;\n",
              "    }\n",
              "\n",
              "    .dataframe thead th {\n",
              "        text-align: right;\n",
              "    }\n",
              "</style>\n",
              "<table border=\"1\" class=\"dataframe\">\n",
              "  <thead>\n",
              "    <tr style=\"text-align: right;\">\n",
              "      <th></th>\n",
              "      <th>Count</th>\n",
              "      <th>Miss %</th>\n",
              "      <th>Card.</th>\n",
              "      <th>Mode</th>\n",
              "      <th>Mode Freq</th>\n",
              "      <th>Mode %</th>\n",
              "      <th>2nd Mode</th>\n",
              "      <th>2nd Mode Freq</th>\n",
              "      <th>2nd Mode %</th>\n",
              "    </tr>\n",
              "  </thead>\n",
              "  <tbody>\n",
              "    <tr>\n",
              "      <th>acq_date</th>\n",
              "      <td>1046679</td>\n",
              "      <td>0.00</td>\n",
              "      <td>1461</td>\n",
              "      <td>2020-01-04</td>\n",
              "      <td>7351</td>\n",
              "      <td>0.70</td>\n",
              "      <td>[2019-12-30]</td>\n",
              "      <td>6925</td>\n",
              "      <td>0.66</td>\n",
              "    </tr>\n",
              "    <tr>\n",
              "      <th>satellite</th>\n",
              "      <td>1046679</td>\n",
              "      <td>0.00</td>\n",
              "      <td>2</td>\n",
              "      <td>Aqua</td>\n",
              "      <td>600236</td>\n",
              "      <td>57.35</td>\n",
              "      <td>[Terra]</td>\n",
              "      <td>446443</td>\n",
              "      <td>42.65</td>\n",
              "    </tr>\n",
              "    <tr>\n",
              "      <th>instrument</th>\n",
              "      <td>1046679</td>\n",
              "      <td>0.00</td>\n",
              "      <td>1</td>\n",
              "      <td>MODIS</td>\n",
              "      <td>1046679</td>\n",
              "      <td>100.00</td>\n",
              "      <td>[]</td>\n",
              "      <td>0</td>\n",
              "      <td>0.00</td>\n",
              "    </tr>\n",
              "    <tr>\n",
              "      <th>daynight</th>\n",
              "      <td>1046679</td>\n",
              "      <td>0.00</td>\n",
              "      <td>2</td>\n",
              "      <td>D</td>\n",
              "      <td>806375</td>\n",
              "      <td>77.04</td>\n",
              "      <td>[N]</td>\n",
              "      <td>240304</td>\n",
              "      <td>22.96</td>\n",
              "    </tr>\n",
              "  </tbody>\n",
              "</table>\n",
              "</div>\n",
              "      <button class=\"colab-df-convert\" onclick=\"convertToInteractive('df-985a5673-3e07-4a9a-9669-d8789158eb72')\"\n",
              "              title=\"Convert this dataframe to an interactive table.\"\n",
              "              style=\"display:none;\">\n",
              "        \n",
              "  <svg xmlns=\"http://www.w3.org/2000/svg\" height=\"24px\"viewBox=\"0 0 24 24\"\n",
              "       width=\"24px\">\n",
              "    <path d=\"M0 0h24v24H0V0z\" fill=\"none\"/>\n",
              "    <path d=\"M18.56 5.44l.94 2.06.94-2.06 2.06-.94-2.06-.94-.94-2.06-.94 2.06-2.06.94zm-11 1L8.5 8.5l.94-2.06 2.06-.94-2.06-.94L8.5 2.5l-.94 2.06-2.06.94zm10 10l.94 2.06.94-2.06 2.06-.94-2.06-.94-.94-2.06-.94 2.06-2.06.94z\"/><path d=\"M17.41 7.96l-1.37-1.37c-.4-.4-.92-.59-1.43-.59-.52 0-1.04.2-1.43.59L10.3 9.45l-7.72 7.72c-.78.78-.78 2.05 0 2.83L4 21.41c.39.39.9.59 1.41.59.51 0 1.02-.2 1.41-.59l7.78-7.78 2.81-2.81c.8-.78.8-2.07 0-2.86zM5.41 20L4 18.59l7.72-7.72 1.47 1.35L5.41 20z\"/>\n",
              "  </svg>\n",
              "      </button>\n",
              "      \n",
              "  <style>\n",
              "    .colab-df-container {\n",
              "      display:flex;\n",
              "      flex-wrap:wrap;\n",
              "      gap: 12px;\n",
              "    }\n",
              "\n",
              "    .colab-df-convert {\n",
              "      background-color: #E8F0FE;\n",
              "      border: none;\n",
              "      border-radius: 50%;\n",
              "      cursor: pointer;\n",
              "      display: none;\n",
              "      fill: #1967D2;\n",
              "      height: 32px;\n",
              "      padding: 0 0 0 0;\n",
              "      width: 32px;\n",
              "    }\n",
              "\n",
              "    .colab-df-convert:hover {\n",
              "      background-color: #E2EBFA;\n",
              "      box-shadow: 0px 1px 2px rgba(60, 64, 67, 0.3), 0px 1px 3px 1px rgba(60, 64, 67, 0.15);\n",
              "      fill: #174EA6;\n",
              "    }\n",
              "\n",
              "    [theme=dark] .colab-df-convert {\n",
              "      background-color: #3B4455;\n",
              "      fill: #D2E3FC;\n",
              "    }\n",
              "\n",
              "    [theme=dark] .colab-df-convert:hover {\n",
              "      background-color: #434B5C;\n",
              "      box-shadow: 0px 1px 3px 1px rgba(0, 0, 0, 0.15);\n",
              "      filter: drop-shadow(0px 1px 2px rgba(0, 0, 0, 0.3));\n",
              "      fill: #FFFFFF;\n",
              "    }\n",
              "  </style>\n",
              "\n",
              "      <script>\n",
              "        const buttonEl =\n",
              "          document.querySelector('#df-985a5673-3e07-4a9a-9669-d8789158eb72 button.colab-df-convert');\n",
              "        buttonEl.style.display =\n",
              "          google.colab.kernel.accessAllowed ? 'block' : 'none';\n",
              "\n",
              "        async function convertToInteractive(key) {\n",
              "          const element = document.querySelector('#df-985a5673-3e07-4a9a-9669-d8789158eb72');\n",
              "          const dataTable =\n",
              "            await google.colab.kernel.invokeFunction('convertToInteractive',\n",
              "                                                     [key], {});\n",
              "          if (!dataTable) return;\n",
              "\n",
              "          const docLinkHtml = 'Like what you see? Visit the ' +\n",
              "            '<a target=\"_blank\" href=https://colab.research.google.com/notebooks/data_table.ipynb>data table notebook</a>'\n",
              "            + ' to learn more about interactive tables.';\n",
              "          element.innerHTML = '';\n",
              "          dataTable['output_type'] = 'display_data';\n",
              "          await google.colab.output.renderOutput(dataTable, element);\n",
              "          const docLink = document.createElement('div');\n",
              "          docLink.innerHTML = docLinkHtml;\n",
              "          element.appendChild(docLink);\n",
              "        }\n",
              "      </script>\n",
              "    </div>\n",
              "  </div>\n",
              "  "
            ]
          },
          "metadata": {},
          "execution_count": 6
        }
      ]
    },
    {
      "cell_type": "markdown",
      "source": [
        "> Observations\n",
        "> * The count value is same for all the features indicating there are no missing values in any continuous features.\n",
        "> * The cardinality of 'instrument' is 1 and it doesn't have a second mode as well, which means instruments has only one type of value - 'MODIS'\n",
        "> * 'acq_date' has the highest cardinality among all the continuous features"
      ],
      "metadata": {
        "id": "fiioG_r7XJeF"
      }
    },
    {
      "cell_type": "markdown",
      "source": [
        "> Feature visualization - Continuous Features\n",
        "\n"
      ],
      "metadata": {
        "id": "RTmCAgmYUzCs"
      }
    },
    {
      "cell_type": "code",
      "source": [
        "data_frame.hist(column=(['latitude', 'longitude', 'scan', 'track', 'acq_time', 'bright_t31', 'brightness', 'confidence']),figsize=(16,16))"
      ],
      "metadata": {
        "colab": {
          "base_uri": "https://localhost:8080/",
          "height": 1000
        },
        "id": "rjNkc1cZXLWZ",
        "outputId": "9ed63117-5de9-4a6f-b633-037fa73a51f1"
      },
      "execution_count": null,
      "outputs": [
        {
          "output_type": "execute_result",
          "data": {
            "text/plain": [
              "array([[<matplotlib.axes._subplots.AxesSubplot object at 0x7f246f9f62d0>,\n",
              "        <matplotlib.axes._subplots.AxesSubplot object at 0x7f246f83da10>,\n",
              "        <matplotlib.axes._subplots.AxesSubplot object at 0x7f246f6ab6d0>],\n",
              "       [<matplotlib.axes._subplots.AxesSubplot object at 0x7f246f6c0550>,\n",
              "        <matplotlib.axes._subplots.AxesSubplot object at 0x7f246fa20550>,\n",
              "        <matplotlib.axes._subplots.AxesSubplot object at 0x7f2470cf03d0>],\n",
              "       [<matplotlib.axes._subplots.AxesSubplot object at 0x7f246fc33a10>,\n",
              "        <matplotlib.axes._subplots.AxesSubplot object at 0x7f246f888890>,\n",
              "        <matplotlib.axes._subplots.AxesSubplot object at 0x7f246fa5b150>]],\n",
              "      dtype=object)"
            ]
          },
          "metadata": {},
          "execution_count": 69
        },
        {
          "output_type": "display_data",
          "data": {
            "text/plain": [
              "<Figure size 1152x1152 with 9 Axes>"
            ],
            "image/png": "[encoded data removed]"
          },
          "metadata": {
            "needs_background": "light"
          }
        }
      ]
    },
    {
      "cell_type": "markdown",
      "source": [
        "\n",
        "\n",
        "> From the above visualizations for the continuous feature, following obervations can be made:\n",
        "\n",
        "\n",
        "> From the histogram of 'brightness' it can be observed -\n",
        "> * More than 300000 incidents have brightness within 340\n",
        "> * Very few incidents have brightness beyond 360 with almost negligible incidents with brightness 450-500\n",
        "\n",
        "\n",
        "> From the histogram of 'acq_time' it can be observed -\n",
        "> * There are no incidents for the acq_time value from approx 600 - 900\n",
        "> * From approx 300-390, the number of incidents are more than 300000\n",
        "\n",
        "\n",
        "> From the histogram of 'track' it can be observed - \n",
        "> * Number of incidents is 0 for track value between 1.7-1.8\n",
        "\n",
        "\n",
        "\n",
        "\n",
        "\n",
        "\n",
        "\n",
        "\n"
      ],
      "metadata": {
        "id": "QJJCQKbOTJjd"
      }
    },
    {
      "cell_type": "markdown",
      "source": [
        "> Feature visualization - Categorical Features"
      ],
      "metadata": {
        "id": "e0DmVbBVZqhC"
      }
    },
    {
      "cell_type": "code",
      "source": [
        "data_frame['satellite'].value_counts().plot.bar();"
      ],
      "metadata": {
        "colab": {
          "base_uri": "https://localhost:8080/",
          "height": 281
        },
        "id": "dY6Zc9DNbh_D",
        "outputId": "9a5affa0-227f-40af-c735-3f4f294da336"
      },
      "execution_count": null,
      "outputs": [
        {
          "output_type": "display_data",
          "data": {
            "text/plain": [
              "<Figure size 432x288 with 1 Axes>"
            ],
            "image/png": "[encoded data removed]"
          },
          "metadata": {
            "needs_background": "light"
          }
        }
      ]
    },
    {
      "cell_type": "markdown",
      "source": [
        "> Observation\n",
        "> * The number of incidents happening in Aqua region are more in comparison to those happened in Terra"
      ],
      "metadata": {
        "id": "s7pUMsGoX04G"
      }
    },
    {
      "cell_type": "code",
      "source": [
        "data_frame['daynight'].value_counts().plot.bar();"
      ],
      "metadata": {
        "colab": {
          "base_uri": "https://localhost:8080/",
          "height": 263
        },
        "id": "LGP4-fr8blHA",
        "outputId": "5a226a78-afc7-49e4-b4ef-3439b2bf34d7"
      },
      "execution_count": null,
      "outputs": [
        {
          "output_type": "display_data",
          "data": {
            "text/plain": [
              "<Figure size 432x288 with 1 Axes>"
            ],
            "image/png": "[encoded data removed]"
          },
          "metadata": {
            "needs_background": "light"
          }
        }
      ]
    },
    {
      "cell_type": "markdown",
      "source": [
        "> Observation\n",
        "> * More than 700000 incidents have happened in the day time where as only 200000 (approx.) have happened at night."
      ],
      "metadata": {
        "id": "-E3cSiO6YBfP"
      }
    },
    {
      "cell_type": "code",
      "source": [
        "data_frame['instrument'].value_counts().plot.bar();"
      ],
      "metadata": {
        "colab": {
          "base_uri": "https://localhost:8080/",
          "height": 300
        },
        "id": "SgzW697Dbu98",
        "outputId": "3b55d2a6-d034-46f5-9334-673741447e82"
      },
      "execution_count": null,
      "outputs": [
        {
          "output_type": "display_data",
          "data": {
            "text/plain": [
              "<Figure size 432x288 with 1 Axes>"
            ],
            "image/png": "[encoded data removed]"
          },
          "metadata": {
            "needs_background": "light"
          }
        }
      ]
    },
    {
      "cell_type": "markdown",
      "source": [
        "> Since acq_date has a cardianality of 1461, it is not possible to plot a bar plot with such high number of values on x axis. Hence, breaking down the values into month and year for better visualization."
      ],
      "metadata": {
        "id": "l6OL0ssuaug2"
      }
    },
    {
      "cell_type": "code",
      "source": [
        "data_frame['month'] = pnd.DatetimeIndex(data_frame['acq_date']).month\n",
        "data_frame['year'] = pnd.DatetimeIndex(data_frame['acq_date']).year"
      ],
      "metadata": {
        "id": "RunzbUGObFKm"
      },
      "execution_count": null,
      "outputs": []
    },
    {
      "cell_type": "code",
      "source": [
        "data_frame['year'].value_counts().plot.bar();"
      ],
      "metadata": {
        "colab": {
          "base_uri": "https://localhost:8080/",
          "height": 281
        },
        "id": "7SnZjRDmZsnZ",
        "outputId": "1f861d15-9bf3-4deb-94d9-d24083e54bc2"
      },
      "execution_count": null,
      "outputs": [
        {
          "output_type": "display_data",
          "data": {
            "text/plain": [
              "<Figure size 432x288 with 1 Axes>"
            ],
            "image/png": "[encoded data removed]"
          },
          "metadata": {
            "needs_background": "light"
          }
        }
      ]
    },
    {
      "cell_type": "code",
      "source": [
        "data_frame['month'].value_counts().plot.bar();"
      ],
      "metadata": {
        "colab": {
          "base_uri": "https://localhost:8080/",
          "height": 268
        },
        "id": "iTniqPX9bbaO",
        "outputId": "99a1c4c8-e635-4e3e-d2ee-9c531ac2ef00"
      },
      "execution_count": null,
      "outputs": [
        {
          "output_type": "display_data",
          "data": {
            "text/plain": [
              "<Figure size 432x288 with 1 Axes>"
            ],
            "image/png": "[encoded data removed]"
          },
          "metadata": {
            "needs_background": "light"
          }
        }
      ]
    },
    {
      "cell_type": "markdown",
      "source": [
        "\n",
        "\n",
        "> **b. Heatmap correlation among the variables in the data**\n",
        "\n"
      ],
      "metadata": {
        "id": "Wn7tPxcEPEPu"
      }
    },
    {
      "cell_type": "markdown",
      "source": [
        "> Getting the correlation values for the dataframe\n",
        "\n"
      ],
      "metadata": {
        "id": "S-2OHmgpPfSY"
      }
    },
    {
      "cell_type": "code",
      "source": [
        "data_frame.corr()"
      ],
      "metadata": {
        "colab": {
          "base_uri": "https://localhost:8080/",
          "height": 457
        },
        "id": "5xrE3FImPW8a",
        "outputId": "536f4087-667a-4140-bbaa-0a8306a4de44"
      },
      "execution_count": null,
      "outputs": [
        {
          "output_type": "execute_result",
          "data": {
            "text/plain": [
              "            latitude  longitude  brightness  scan  track  acq_time  \\\n",
              "latitude        1.00      -0.29       -0.06  0.02   0.02     -0.18   \n",
              "longitude      -0.29       1.00       -0.10 -0.09  -0.09      0.06   \n",
              "brightness     -0.06      -0.10        1.00 -0.08  -0.09     -0.26   \n",
              "scan            0.02      -0.09       -0.08  1.00   0.98     -0.02   \n",
              "track           0.02      -0.09       -0.09  0.98   1.00     -0.02   \n",
              "acq_time       -0.18       0.06       -0.26 -0.02  -0.02      1.00   \n",
              "confidence     -0.09      -0.06        0.58 -0.08  -0.08      0.01   \n",
              "version         0.06      -0.14       -0.00  0.03   0.03     -0.05   \n",
              "bright_t31      0.13      -0.24        0.66 -0.12  -0.12     -0.43   \n",
              "frp            -0.10      -0.06        0.64  0.24   0.23     -0.05   \n",
              "type           -0.06      -0.01       -0.05 -0.02  -0.02      0.02   \n",
              "month           0.15       0.09        0.10  0.02   0.02      0.05   \n",
              "year           -0.14       0.23        0.00 -0.05  -0.06      0.06   \n",
              "\n",
              "            confidence  version  bright_t31   frp  type  month  year  \n",
              "latitude         -0.09     0.06        0.13 -0.10 -0.06   0.15 -0.14  \n",
              "longitude        -0.06    -0.14       -0.24 -0.06 -0.01   0.09  0.23  \n",
              "brightness        0.58    -0.00        0.66  0.64 -0.05   0.10  0.00  \n",
              "scan             -0.08     0.03       -0.12  0.24 -0.02   0.02 -0.05  \n",
              "track            -0.08     0.03       -0.12  0.23 -0.02   0.02 -0.06  \n",
              "acq_time          0.01    -0.05       -0.43 -0.05  0.02   0.05  0.06  \n",
              "confidence        1.00     0.01        0.26  0.30 -0.04   0.06 -0.01  \n",
              "version           0.01     1.00        0.02  0.01 -0.02   0.07 -0.78  \n",
              "bright_t31        0.26     0.02        1.00  0.30 -0.05   0.09 -0.04  \n",
              "frp               0.30     0.01        0.30  1.00 -0.02   0.03 -0.01  \n",
              "type             -0.04    -0.02       -0.05 -0.02  1.00  -0.02  0.02  \n",
              "month             0.06     0.07        0.09  0.03 -0.02   1.00 -0.14  \n",
              "year             -0.01    -0.78       -0.04 -0.01  0.02  -0.14  1.00  "
            ],
            "text/html": [
              "\n",
              "  <div id=\"df-b3c2b7f0-61c2-44a0-b71f-88add59d9cae\">\n",
              "    <div class=\"colab-df-container\">\n",
              "      <div>\n",
              "<style scoped>\n",
              "    .dataframe tbody tr th:only-of-type {\n",
              "        vertical-align: middle;\n",
              "    }\n",
              "\n",
              "    .dataframe tbody tr th {\n",
              "        vertical-align: top;\n",
              "    }\n",
              "\n",
              "    .dataframe thead th {\n",
              "        text-align: right;\n",
              "    }\n",
              "</style>\n",
              "<table border=\"1\" class=\"dataframe\">\n",
              "  <thead>\n",
              "    <tr style=\"text-align: right;\">\n",
              "      <th></th>\n",
              "      <th>latitude</th>\n",
              "      <th>longitude</th>\n",
              "      <th>brightness</th>\n",
              "      <th>scan</th>\n",
              "      <th>track</th>\n",
              "      <th>acq_time</th>\n",
              "      <th>confidence</th>\n",
              "      <th>version</th>\n",
              "      <th>bright_t31</th>\n",
              "      <th>frp</th>\n",
              "      <th>type</th>\n",
              "      <th>month</th>\n",
              "      <th>year</th>\n",
              "    </tr>\n",
              "  </thead>\n",
              "  <tbody>\n",
              "    <tr>\n",
              "      <th>latitude</th>\n",
              "      <td>1.00</td>\n",
              "      <td>-0.29</td>\n",
              "      <td>-0.06</td>\n",
              "      <td>0.02</td>\n",
              "      <td>0.02</td>\n",
              "      <td>-0.18</td>\n",
              "      <td>-0.09</td>\n",
              "      <td>0.06</td>\n",
              "      <td>0.13</td>\n",
              "      <td>-0.10</td>\n",
              "      <td>-0.06</td>\n",
              "      <td>0.15</td>\n",
              "      <td>-0.14</td>\n",
              "    </tr>\n",
              "    <tr>\n",
              "      <th>longitude</th>\n",
              "      <td>-0.29</td>\n",
              "      <td>1.00</td>\n",
              "      <td>-0.10</td>\n",
              "      <td>-0.09</td>\n",
              "      <td>-0.09</td>\n",
              "      <td>0.06</td>\n",
              "      <td>-0.06</td>\n",
              "      <td>-0.14</td>\n",
              "      <td>-0.24</td>\n",
              "      <td>-0.06</td>\n",
              "      <td>-0.01</td>\n",
              "      <td>0.09</td>\n",
              "      <td>0.23</td>\n",
              "    </tr>\n",
              "    <tr>\n",
              "      <th>brightness</th>\n",
              "      <td>-0.06</td>\n",
              "      <td>-0.10</td>\n",
              "      <td>1.00</td>\n",
              "      <td>-0.08</td>\n",
              "      <td>-0.09</td>\n",
              "      <td>-0.26</td>\n",
              "      <td>0.58</td>\n",
              "      <td>-0.00</td>\n",
              "      <td>0.66</td>\n",
              "      <td>0.64</td>\n",
              "      <td>-0.05</td>\n",
              "      <td>0.10</td>\n",
              "      <td>0.00</td>\n",
              "    </tr>\n",
              "    <tr>\n",
              "      <th>scan</th>\n",
              "      <td>0.02</td>\n",
              "      <td>-0.09</td>\n",
              "      <td>-0.08</td>\n",
              "      <td>1.00</td>\n",
              "      <td>0.98</td>\n",
              "      <td>-0.02</td>\n",
              "      <td>-0.08</td>\n",
              "      <td>0.03</td>\n",
              "      <td>-0.12</td>\n",
              "      <td>0.24</td>\n",
              "      <td>-0.02</td>\n",
              "      <td>0.02</td>\n",
              "      <td>-0.05</td>\n",
              "    </tr>\n",
              "    <tr>\n",
              "      <th>track</th>\n",
              "      <td>0.02</td>\n",
              "      <td>-0.09</td>\n",
              "      <td>-0.09</td>\n",
              "      <td>0.98</td>\n",
              "      <td>1.00</td>\n",
              "      <td>-0.02</td>\n",
              "      <td>-0.08</td>\n",
              "      <td>0.03</td>\n",
              "      <td>-0.12</td>\n",
              "      <td>0.23</td>\n",
              "      <td>-0.02</td>\n",
              "      <td>0.02</td>\n",
              "      <td>-0.06</td>\n",
              "    </tr>\n",
              "    <tr>\n",
              "      <th>acq_time</th>\n",
              "      <td>-0.18</td>\n",
              "      <td>0.06</td>\n",
              "      <td>-0.26</td>\n",
              "      <td>-0.02</td>\n",
              "      <td>-0.02</td>\n",
              "      <td>1.00</td>\n",
              "      <td>0.01</td>\n",
              "      <td>-0.05</td>\n",
              "      <td>-0.43</td>\n",
              "      <td>-0.05</td>\n",
              "      <td>0.02</td>\n",
              "      <td>0.05</td>\n",
              "      <td>0.06</td>\n",
              "    </tr>\n",
              "    <tr>\n",
              "      <th>confidence</th>\n",
              "      <td>-0.09</td>\n",
              "      <td>-0.06</td>\n",
              "      <td>0.58</td>\n",
              "      <td>-0.08</td>\n",
              "      <td>-0.08</td>\n",
              "      <td>0.01</td>\n",
              "      <td>1.00</td>\n",
              "      <td>0.01</td>\n",
              "      <td>0.26</td>\n",
              "      <td>0.30</td>\n",
              "      <td>-0.04</td>\n",
              "      <td>0.06</td>\n",
              "      <td>-0.01</td>\n",
              "    </tr>\n",
              "    <tr>\n",
              "      <th>version</th>\n",
              "      <td>0.06</td>\n",
              "      <td>-0.14</td>\n",
              "      <td>-0.00</td>\n",
              "      <td>0.03</td>\n",
              "      <td>0.03</td>\n",
              "      <td>-0.05</td>\n",
              "      <td>0.01</td>\n",
              "      <td>1.00</td>\n",
              "      <td>0.02</td>\n",
              "      <td>0.01</td>\n",
              "      <td>-0.02</td>\n",
              "      <td>0.07</td>\n",
              "      <td>-0.78</td>\n",
              "    </tr>\n",
              "    <tr>\n",
              "      <th>bright_t31</th>\n",
              "      <td>0.13</td>\n",
              "      <td>-0.24</td>\n",
              "      <td>0.66</td>\n",
              "      <td>-0.12</td>\n",
              "      <td>-0.12</td>\n",
              "      <td>-0.43</td>\n",
              "      <td>0.26</td>\n",
              "      <td>0.02</td>\n",
              "      <td>1.00</td>\n",
              "      <td>0.30</td>\n",
              "      <td>-0.05</td>\n",
              "      <td>0.09</td>\n",
              "      <td>-0.04</td>\n",
              "    </tr>\n",
              "    <tr>\n",
              "      <th>frp</th>\n",
              "      <td>-0.10</td>\n",
              "      <td>-0.06</td>\n",
              "      <td>0.64</td>\n",
              "      <td>0.24</td>\n",
              "      <td>0.23</td>\n",
              "      <td>-0.05</td>\n",
              "      <td>0.30</td>\n",
              "      <td>0.01</td>\n",
              "      <td>0.30</td>\n",
              "      <td>1.00</td>\n",
              "      <td>-0.02</td>\n",
              "      <td>0.03</td>\n",
              "      <td>-0.01</td>\n",
              "    </tr>\n",
              "    <tr>\n",
              "      <th>type</th>\n",
              "      <td>-0.06</td>\n",
              "      <td>-0.01</td>\n",
              "      <td>-0.05</td>\n",
              "      <td>-0.02</td>\n",
              "      <td>-0.02</td>\n",
              "      <td>0.02</td>\n",
              "      <td>-0.04</td>\n",
              "      <td>-0.02</td>\n",
              "      <td>-0.05</td>\n",
              "      <td>-0.02</td>\n",
              "      <td>1.00</td>\n",
              "      <td>-0.02</td>\n",
              "      <td>0.02</td>\n",
              "    </tr>\n",
              "    <tr>\n",
              "      <th>month</th>\n",
              "      <td>0.15</td>\n",
              "      <td>0.09</td>\n",
              "      <td>0.10</td>\n",
              "      <td>0.02</td>\n",
              "      <td>0.02</td>\n",
              "      <td>0.05</td>\n",
              "      <td>0.06</td>\n",
              "      <td>0.07</td>\n",
              "      <td>0.09</td>\n",
              "      <td>0.03</td>\n",
              "      <td>-0.02</td>\n",
              "      <td>1.00</td>\n",
              "      <td>-0.14</td>\n",
              "    </tr>\n",
              "    <tr>\n",
              "      <th>year</th>\n",
              "      <td>-0.14</td>\n",
              "      <td>0.23</td>\n",
              "      <td>0.00</td>\n",
              "      <td>-0.05</td>\n",
              "      <td>-0.06</td>\n",
              "      <td>0.06</td>\n",
              "      <td>-0.01</td>\n",
              "      <td>-0.78</td>\n",
              "      <td>-0.04</td>\n",
              "      <td>-0.01</td>\n",
              "      <td>0.02</td>\n",
              "      <td>-0.14</td>\n",
              "      <td>1.00</td>\n",
              "    </tr>\n",
              "  </tbody>\n",
              "</table>\n",
              "</div>\n",
              "      <button class=\"colab-df-convert\" onclick=\"convertToInteractive('df-b3c2b7f0-61c2-44a0-b71f-88add59d9cae')\"\n",
              "              title=\"Convert this dataframe to an interactive table.\"\n",
              "              style=\"display:none;\">\n",
              "        \n",
              "  <svg xmlns=\"http://www.w3.org/2000/svg\" height=\"24px\"viewBox=\"0 0 24 24\"\n",
              "       width=\"24px\">\n",
              "    <path d=\"M0 0h24v24H0V0z\" fill=\"none\"/>\n",
              "    <path d=\"M18.56 5.44l.94 2.06.94-2.06 2.06-.94-2.06-.94-.94-2.06-.94 2.06-2.06.94zm-11 1L8.5 8.5l.94-2.06 2.06-.94-2.06-.94L8.5 2.5l-.94 2.06-2.06.94zm10 10l.94 2.06.94-2.06 2.06-.94-2.06-.94-.94-2.06-.94 2.06-2.06.94z\"/><path d=\"M17.41 7.96l-1.37-1.37c-.4-.4-.92-.59-1.43-.59-.52 0-1.04.2-1.43.59L10.3 9.45l-7.72 7.72c-.78.78-.78 2.05 0 2.83L4 21.41c.39.39.9.59 1.41.59.51 0 1.02-.2 1.41-.59l7.78-7.78 2.81-2.81c.8-.78.8-2.07 0-2.86zM5.41 20L4 18.59l7.72-7.72 1.47 1.35L5.41 20z\"/>\n",
              "  </svg>\n",
              "      </button>\n",
              "      \n",
              "  <style>\n",
              "    .colab-df-container {\n",
              "      display:flex;\n",
              "      flex-wrap:wrap;\n",
              "      gap: 12px;\n",
              "    }\n",
              "\n",
              "    .colab-df-convert {\n",
              "      background-color: #E8F0FE;\n",
              "      border: none;\n",
              "      border-radius: 50%;\n",
              "      cursor: pointer;\n",
              "      display: none;\n",
              "      fill: #1967D2;\n",
              "      height: 32px;\n",
              "      padding: 0 0 0 0;\n",
              "      width: 32px;\n",
              "    }\n",
              "\n",
              "    .colab-df-convert:hover {\n",
              "      background-color: #E2EBFA;\n",
              "      box-shadow: 0px 1px 2px rgba(60, 64, 67, 0.3), 0px 1px 3px 1px rgba(60, 64, 67, 0.15);\n",
              "      fill: #174EA6;\n",
              "    }\n",
              "\n",
              "    [theme=dark] .colab-df-convert {\n",
              "      background-color: #3B4455;\n",
              "      fill: #D2E3FC;\n",
              "    }\n",
              "\n",
              "    [theme=dark] .colab-df-convert:hover {\n",
              "      background-color: #434B5C;\n",
              "      box-shadow: 0px 1px 3px 1px rgba(0, 0, 0, 0.15);\n",
              "      filter: drop-shadow(0px 1px 2px rgba(0, 0, 0, 0.3));\n",
              "      fill: #FFFFFF;\n",
              "    }\n",
              "  </style>\n",
              "\n",
              "      <script>\n",
              "        const buttonEl =\n",
              "          document.querySelector('#df-b3c2b7f0-61c2-44a0-b71f-88add59d9cae button.colab-df-convert');\n",
              "        buttonEl.style.display =\n",
              "          google.colab.kernel.accessAllowed ? 'block' : 'none';\n",
              "\n",
              "        async function convertToInteractive(key) {\n",
              "          const element = document.querySelector('#df-b3c2b7f0-61c2-44a0-b71f-88add59d9cae');\n",
              "          const dataTable =\n",
              "            await google.colab.kernel.invokeFunction('convertToInteractive',\n",
              "                                                     [key], {});\n",
              "          if (!dataTable) return;\n",
              "\n",
              "          const docLinkHtml = 'Like what you see? Visit the ' +\n",
              "            '<a target=\"_blank\" href=https://colab.research.google.com/notebooks/data_table.ipynb>data table notebook</a>'\n",
              "            + ' to learn more about interactive tables.';\n",
              "          element.innerHTML = '';\n",
              "          dataTable['output_type'] = 'display_data';\n",
              "          await google.colab.output.renderOutput(dataTable, element);\n",
              "          const docLink = document.createElement('div');\n",
              "          docLink.innerHTML = docLinkHtml;\n",
              "          element.appendChild(docLink);\n",
              "        }\n",
              "      </script>\n",
              "    </div>\n",
              "  </div>\n",
              "  "
            ]
          },
          "metadata": {},
          "execution_count": 76
        }
      ]
    },
    {
      "cell_type": "markdown",
      "source": [
        "\n",
        "\n",
        "> Plot the heatmap for the correlation values <a href='https://seaborn.pydata.org/generated/seaborn.heatmap.html'>[4]</a>\n",
        "\n"
      ],
      "metadata": {
        "id": "vimJIABSPtL2"
      }
    },
    {
      "cell_type": "code",
      "source": [
        "plt.figure(figsize=(10,10))\n",
        "sns.heatmap(data_frame.corr(),annot=True, cmap=plt.cm.Reds)\n"
      ],
      "metadata": {
        "colab": {
          "base_uri": "https://localhost:8080/",
          "height": 657
        },
        "id": "iLvYIr5cPzLj",
        "outputId": "4c5c03fd-342e-493f-a886-a6462001020d"
      },
      "execution_count": null,
      "outputs": [
        {
          "output_type": "execute_result",
          "data": {
            "text/plain": [
              "<matplotlib.axes._subplots.AxesSubplot at 0x7f2470a11e90>"
            ]
          },
          "metadata": {},
          "execution_count": 77
        },
        {
          "output_type": "display_data",
          "data": {
            "text/plain": [
              "<Figure size 720x720 with 2 Axes>"
            ],
            "image/png": "[encoded data removed]"
          },
          "metadata": {
            "needs_background": "light"
          }
        }
      ]
    },
    {
      "cell_type": "markdown",
      "source": [
        "> Observations from heatmap\n",
        "> * The colorbar on the right - Dark color indicates strong positive correlation and light color indicates strong negative correlation.\n",
        "> * Scan and track have strong positive correlation between them\n",
        "> * Version and Year have strong negative correlation as both the features are completely different from each other\n",
        "> * frp has strong correlation with brightness and bright_t31"
      ],
      "metadata": {
        "id": "bAXpWpdYYXzK"
      }
    },
    {
      "cell_type": "markdown",
      "source": [
        "\n",
        "\n",
        "> **c. Identifying the data quality issues and build data quality plan**\n",
        "\n"
      ],
      "metadata": {
        "id": "Ug6sHBWXP99a"
      }
    },
    {
      "cell_type": "markdown",
      "source": [
        "\n",
        "\n",
        "> The most common data quality issues are:\n",
        "\n",
        "* Missing values\n",
        "* Irregular cardinality\n",
        "* Outliers\n",
        "\n",
        "> Missing values:"
      ],
      "metadata": {
        "id": "OAVph-ZRQ0xF"
      }
    },
    {
      "cell_type": "code",
      "source": [
        "# To remove missing values\n",
        "# Drop null values in rows\n",
        "data_frame.dropna()\n",
        "# Drop null values in columns\n",
        "data_frame.dropna(axis='columns')"
      ],
      "metadata": {
        "id": "IqYRyTcIRjc5"
      },
      "execution_count": null,
      "outputs": []
    },
    {
      "cell_type": "code",
      "source": [
        "# Drop duplicate values\n",
        "df=data_frame.drop_duplicates()"
      ],
      "metadata": {
        "id": "gG9LsydfSkfO"
      },
      "execution_count": 7,
      "outputs": []
    },
    {
      "cell_type": "markdown",
      "source": [
        "> Irregular cardinality:\n",
        "\n",
        "> General Issues with irregular cardinality are:\n",
        "\n",
        "* Features with a cardinality of 1\n",
        "* Too low cardinality continious features\n",
        "* Too high cardinality categorical features\n",
        "\n",
        "> With the above findings for categorical and continuous features, it is observed that 'version' and 'type' columns have very less cardinality. Hence, they can either be dropped or converted to categorical features.\n",
        "\n",
        "> We will drop 'version' column and 'instrument' column since it has a cardinality of 2 and 1 respectively and would also not have a role in prediction model later. \n",
        "\n",
        "> Although the cardinaliy of 'type' column is 3, we will need it for identifying bushfires."
      ],
      "metadata": {
        "id": "HhfucULwSgf4"
      }
    },
    {
      "cell_type": "code",
      "source": [
        "df = df.drop(['version'], axis=1)\n",
        "df = df.drop(['instrument'], axis=1)"
      ],
      "metadata": {
        "id": "9uQ4ikMXR7XY"
      },
      "execution_count": null,
      "outputs": []
    },
    {
      "cell_type": "markdown",
      "source": [
        "> Outliers [2]"
      ],
      "metadata": {
        "id": "RFTSlCiaeG9r"
      }
    },
    {
      "cell_type": "markdown",
      "source": [
        "> * Outliers are those values which lie completely away from all other values in the dataset.\n",
        "> * Since our target feature is 'FRP' we will be removing outliers only for that feature as it may affect the performance of the model.\n",
        ">* Calculated the outliers for 'latitude' and 'longitude' as well to show how outliers are calculated."
      ],
      "metadata": {
        "id": "9bFAEPOo57AG"
      }
    },
    {
      "cell_type": "markdown",
      "source": [
        "> latitude"
      ],
      "metadata": {
        "id": "yddgVzwYeKmk"
      }
    },
    {
      "cell_type": "code",
      "source": [
        "df.boxplot('latitude');"
      ],
      "metadata": {
        "id": "TVQj1F2ZeJ58",
        "colab": {
          "base_uri": "https://localhost:8080/",
          "height": 265
        },
        "outputId": "b3c39907-39cf-4b8e-deb4-c164bcaa4b9f"
      },
      "execution_count": 8,
      "outputs": [
        {
          "output_type": "display_data",
          "data": {
            "text/plain": [
              "<Figure size 432x288 with 1 Axes>"
            ],
            "image/png": "[encoded data removed]"
          },
          "metadata": {
            "needs_background": "light"
          }
        }
      ]
    },
    {
      "cell_type": "code",
      "source": [
        "Q1= df['latitude'].quantile(0.25)\n",
        "Q3= df['latitude'].quantile(0.75)\n",
        "\n",
        "IQR = Q3-Q1\n",
        "print(IQR)"
      ],
      "metadata": {
        "id": "sjeb80uqeVZJ",
        "colab": {
          "base_uri": "https://localhost:8080/"
        },
        "outputId": "6f255588-340d-45f3-c8c8-864ba0d00b18"
      },
      "execution_count": 9,
      "outputs": [
        {
          "output_type": "stream",
          "name": "stdout",
          "text": [
            "13.4697\n"
          ]
        }
      ]
    },
    {
      "cell_type": "code",
      "source": [
        "outliers_df = df[(df['latitude'] < (Q1 - 1.5 * IQR)) | (df['latitude'] > (Q3 + 1.5 * IQR))]\n",
        "print(\"Num of outliers: \", len(outliers_df))"
      ],
      "metadata": {
        "id": "zxIpas18ezf_",
        "colab": {
          "base_uri": "https://localhost:8080/"
        },
        "outputId": "15523be8-d1c9-4998-92e4-fee7ee779b45"
      },
      "execution_count": 10,
      "outputs": [
        {
          "output_type": "stream",
          "name": "stdout",
          "text": [
            "Num of outliers:  0\n"
          ]
        }
      ]
    },
    {
      "cell_type": "markdown",
      "source": [
        "> longitude"
      ],
      "metadata": {
        "id": "iI2yVv2yhqpf"
      }
    },
    {
      "cell_type": "code",
      "source": [
        "df.boxplot('longitude');"
      ],
      "metadata": {
        "id": "rBciiOMmhs7I",
        "colab": {
          "base_uri": "https://localhost:8080/",
          "height": 266
        },
        "outputId": "14903950-78c6-457c-9e04-98eb04e319ae"
      },
      "execution_count": 11,
      "outputs": [
        {
          "output_type": "display_data",
          "data": {
            "text/plain": [
              "<Figure size 432x288 with 1 Axes>"
            ],
            "image/png": "[encoded data removed]"
          },
          "metadata": {
            "needs_background": "light"
          }
        }
      ]
    },
    {
      "cell_type": "code",
      "source": [
        "Q1= df['longitude'].quantile(0.25)\n",
        "Q3= df['longitude'].quantile(0.75)\n",
        "\n",
        "IQR = Q3-Q1\n",
        "print(IQR)"
      ],
      "metadata": {
        "id": "8O7oaBg0h14q",
        "colab": {
          "base_uri": "https://localhost:8080/"
        },
        "outputId": "bdedcc1a-dbb4-44c3-b296-c057d08c69f7"
      },
      "execution_count": 12,
      "outputs": [
        {
          "output_type": "stream",
          "name": "stdout",
          "text": [
            "18.1562\n"
          ]
        }
      ]
    },
    {
      "cell_type": "code",
      "source": [
        "outliers_df = df[(df['longitude'] < (Q1 - 1.5 * IQR)) | (df['longitude'] > (Q3 + 1.5 * IQR))]\n",
        "print(\"Num of outliers: \", len(outliers_df))"
      ],
      "metadata": {
        "id": "aJCU-TdEiAhk",
        "colab": {
          "base_uri": "https://localhost:8080/"
        },
        "outputId": "de4d47bd-8bb1-42b5-ecff-349c7eb1925b"
      },
      "execution_count": 13,
      "outputs": [
        {
          "output_type": "stream",
          "name": "stdout",
          "text": [
            "Num of outliers:  0\n"
          ]
        }
      ]
    },
    {
      "cell_type": "markdown",
      "source": [
        "> frp"
      ],
      "metadata": {
        "id": "VmAQW8w6iFN3"
      }
    },
    {
      "cell_type": "code",
      "source": [
        "df.boxplot('frp');"
      ],
      "metadata": {
        "id": "VmnR45NHiHte",
        "colab": {
          "base_uri": "https://localhost:8080/",
          "height": 265
        },
        "outputId": "dd97241d-c5a9-4e57-dc3e-a664bcf27dab"
      },
      "execution_count": 14,
      "outputs": [
        {
          "output_type": "display_data",
          "data": {
            "text/plain": [
              "<Figure size 432x288 with 1 Axes>"
            ],
            "image/png": "[encoded data removed]"
          },
          "metadata": {
            "needs_background": "light"
          }
        }
      ]
    },
    {
      "cell_type": "code",
      "source": [
        "Q1= df['frp'].quantile(0.25)\n",
        "Q3= df['frp'].quantile(0.75)\n",
        "\n",
        "IQR = Q3-Q1\n",
        "print(IQR)"
      ],
      "metadata": {
        "id": "OMoU6o6iiAbJ",
        "colab": {
          "base_uri": "https://localhost:8080/"
        },
        "outputId": "0c38b4f1-b78f-477c-e4a8-edc7fdea6d74"
      },
      "execution_count": null,
      "outputs": [
        {
          "output_type": "stream",
          "name": "stdout",
          "text": [
            "48.9\n"
          ]
        }
      ]
    },
    {
      "cell_type": "code",
      "source": [
        "outliers_df = df[(df['frp'] < (Q1 - 1.5 * IQR)) | (df['frp'] > (Q3 + 1.5 * IQR))]\n",
        "print(\"Num of outliers: \", len(outliers_df))"
      ],
      "metadata": {
        "id": "LpID2U0VisB_",
        "colab": {
          "base_uri": "https://localhost:8080/"
        },
        "outputId": "7ceddcd9-f2e0-4a38-8361-c53f2895e413"
      },
      "execution_count": null,
      "outputs": [
        {
          "output_type": "stream",
          "name": "stdout",
          "text": [
            "Num of outliers:  111537\n"
          ]
        }
      ]
    },
    {
      "cell_type": "code",
      "source": [
        "df.drop(outliers_df.index).boxplot('frp')"
      ],
      "metadata": {
        "id": "kJSzYNv3toOK",
        "colab": {
          "base_uri": "https://localhost:8080/",
          "height": 282
        },
        "outputId": "c98e3f6e-f218-4381-8bf1-e85e3a7e8a2f"
      },
      "execution_count": null,
      "outputs": [
        {
          "output_type": "execute_result",
          "data": {
            "text/plain": [
              "<matplotlib.axes._subplots.AxesSubplot at 0x7f586556b0d0>"
            ]
          },
          "metadata": {},
          "execution_count": 11
        },
        {
          "output_type": "display_data",
          "data": {
            "text/plain": [
              "<Figure size 432x288 with 1 Axes>"
            ],
            "image/png": "[encoded data removed]"
          },
          "metadata": {
            "needs_background": "light"
          }
        }
      ]
    },
    {
      "cell_type": "markdown",
      "source": [
        "2. Data Pre-processing"
      ],
      "metadata": {
        "id": "_7ZsdMhWvwKZ"
      }
    },
    {
      "cell_type": "markdown",
      "source": [
        "*   Removing null and duplicate values has already been done in the above section hence, not repeating it here again.\n",
        "*   Features with cardinality 2 and 3 have already been removed above as they will not help in prediction later. (Version and Instrument)\n",
        "* In the outliers, after plotting a boxplot of 'frp' and using the formula to calculate the number of outliers, there are 111537 outliers which are removed as 'frp' is our target feature later and these outliers might create issues while predicting.\n",
        "*   acq_date has been divided with Year and Month, it can be dropped too but since it is to be used when calculating the incidents of bushfire in the later part we're keeping it for now.\n",
        "*   'acq_time' will not provide any further information when the model is built later, hence removing that as well\n",
        "\n"
      ],
      "metadata": {
        "id": "euHqiRto6rnZ"
      }
    },
    {
      "cell_type": "code",
      "source": [
        "df = df.drop(['acq_time'], axis=1)"
      ],
      "metadata": {
        "id": "lRChv3Gy694W"
      },
      "execution_count": null,
      "outputs": []
    },
    {
      "cell_type": "code",
      "source": [
        "df.head(2)"
      ],
      "metadata": {
        "id": "OhaKgvfp7z8F"
      },
      "execution_count": null,
      "outputs": []
    },
    {
      "cell_type": "markdown",
      "source": [
        "3.a Date on which Bushfires present the highest number of incidents\n",
        "\n",
        "\n",
        "*   To find the date with maximum incidents of bushfire, we have first filtered out the acq_date and type column into a new dataframe for all the type=0, because 0 denotes the vegetation fire\n",
        "\n",
        "\n"
      ],
      "metadata": {
        "id": "r8kNDTK24tRU"
      }
    },
    {
      "cell_type": "code",
      "source": [
        "bushfire_df = df.filter(['acq_date', 'type'])[lambda x: x['type'] == 0]\n",
        "bushfire_df.head(5)"
      ],
      "metadata": {
        "id": "b8U0oL9qDp8V"
      },
      "execution_count": null,
      "outputs": []
    },
    {
      "cell_type": "markdown",
      "source": [
        "\n",
        "\n",
        "\n",
        "*   Then for the data in the dataframe, count of each value is calculated\n",
        "\n",
        "\n",
        "\n",
        "\n",
        "\n"
      ],
      "metadata": {
        "id": "JtRIg5u-KVfc"
      }
    },
    {
      "cell_type": "code",
      "source": [
        "bushfire_df = bushfire_df.apply(pnd.value_counts)"
      ],
      "metadata": {
        "id": "sP0gBodNEq1U"
      },
      "execution_count": null,
      "outputs": []
    },
    {
      "cell_type": "markdown",
      "source": [
        "\n",
        "\n",
        "*   Based on 'acq_date' the value with highest number of counts is taken and date corresponding to that is printed\n",
        "\n",
        "\n"
      ],
      "metadata": {
        "id": "BItbValSKk_X"
      }
    },
    {
      "cell_type": "code",
      "source": [
        "col = \"acq_date\"\n",
        "max_x = bushfire_df.loc[bushfire_df[col].idxmax()]"
      ],
      "metadata": {
        "id": "CJaAgzKeIQuC"
      },
      "execution_count": null,
      "outputs": []
    },
    {
      "cell_type": "code",
      "source": [
        "print(max_x)"
      ],
      "metadata": {
        "id": "OUn-AqC7Iv_7"
      },
      "execution_count": null,
      "outputs": []
    },
    {
      "cell_type": "markdown",
      "source": [
        "From the above results, it can be seen that **Date - 2020-01-04** has the highest incidents of bushfire"
      ],
      "metadata": {
        "id": "wGn54TeBK6GY"
      }
    },
    {
      "cell_type": "markdown",
      "source": [
        "b. Based on the data quality report, the attributes that will not serve much purpose are already removed and from the ones that are left the attributes that would be useful to predict the confidence of the incident are - \n",
        "\n",
        "\n",
        "*   brightness\n",
        "*   frp\n",
        "*   bright t-31\n",
        "*   scan\n",
        "*  track\n",
        "* year\n",
        "* month\n",
        "* Satellite\n",
        "* confidence\n",
        "\n",
        "The selected attributes are important because the dataset is about the wildfires in regions of Australia, and for prediction it will need density of fire(brightness) the area it is happening in, year in which it happened. \n",
        "\n",
        "Also, from the heatmap generated for correlation it is seen that these attributes are correlated with brightness and bright_t31 being the most correlated with 'FRP'.\n",
        "\n",
        "\n",
        "\n",
        "\n",
        "\n"
      ],
      "metadata": {
        "id": "JiVrSWmqM3_o"
      }
    },
    {
      "cell_type": "markdown",
      "metadata": {
        "id": "V0IqkU8MVuAW"
      },
      "source": [
        "### 2. Spatio-temporal data"
      ]
    },
    {
      "cell_type": "markdown",
      "source": [
        "**1.  Geographical heat map of FRP for the Aqua area for the year of 2017**"
      ],
      "metadata": {
        "id": "TuIxRL8kNITC"
      }
    },
    {
      "cell_type": "markdown",
      "source": [
        "> Folium enables both the binding of data to a map and visualizations as markers on the map <a href='https://python-visualization.github.io/folium/'>[5]</a>.\n",
        "\n",
        "> We will use folium to:\n",
        "\n",
        "* Plot the center of Australia <a href='https://www.ga.gov.au/scientific-topics/national-location-information/dimensions/centre-of-australia-states-territories'>[6]</a>\n",
        "* Plot the latitude and longitudes of the median FRP values for each day of 2017 to visualize the geographical heatmap."
      ],
      "metadata": {
        "id": "JCcCsETQqrHZ"
      }
    },
    {
      "cell_type": "markdown",
      "source": [
        "> Read the \"latitude\", \"longitude\", \"FRP\", \"acq_date\", \"satellite”, and “acq_date” values from the ‘modis_2017_Australia.csv’ file to create ‘df_max_frp’ data frame with “acq_date” values parsed as dates. Since the geographical heatmap of FRP is required only for the ‘Aqua’ area, we will filter the data using the ‘Aqua’ values of the “satellite” column. "
      ],
      "metadata": {
        "id": "PgSDopK5q4g8"
      }
    },
    {
      "cell_type": "code",
      "source": [
        "file = open(\"/modis_2017_Australia.csv\")\n",
        "df_2017 = pnd.read_csv(file, \n",
        "                 usecols=[\"latitude\", \"longitude\", \"frp\",\n",
        "                 \"acq_date\", \"satellite\"], parse_dates=[\"acq_date\"])[lambda x: x['satellite'] == \"Aqua\"]"
      ],
      "metadata": {
        "id": "lLPSpCCOq0-4"
      },
      "execution_count": null,
      "outputs": []
    },
    {
      "cell_type": "markdown",
      "source": [
        "> The data frame is then grouped by the date <a href='https://pandas.pydata.org/pandas-docs/stable/reference/api/pandas.Grouper.html'>[7]</a> for applying the median aggregation method on FRP values for each date. We are using the median aggregation method for plotting the geographical heatmap as the median helps us in avoiding the extreme high and low values, which can be unknown or outliers and untrustworthy due to measurement errors. It gives us the idea of where the center point is located in a dataset. We will be using the median FRP value for each date in the year 2017 to plot the geographical heatmap."
      ],
      "metadata": {
        "id": "50P-I40orCox"
      }
    },
    {
      "cell_type": "code",
      "source": [
        "df_max_frp = df_2017.groupby(pnd.Grouper(key=\"acq_date\"))[\"frp\"].median()"
      ],
      "metadata": {
        "id": "f4RoeSDmq8RP"
      },
      "execution_count": null,
      "outputs": []
    },
    {
      "cell_type": "markdown",
      "source": [
        "> Create ‘final_df’ list for the corresponding latitude and longitude values of the calculated median FRP values [6].\n",
        "\n",
        "> Concatenate the ‘final_list’ to create ‘data’ data frame."
      ],
      "metadata": {
        "id": "DKHoJnYrrKTv"
      }
    },
    {
      "cell_type": "code",
      "source": [
        "final_df = []\n",
        "for date, frp in df_max_frp.items():\n",
        "    final_df.append(df_2017[(df_2017[\"acq_date\"]==date) & (df_2017[\"frp\"]==frp)])\n",
        "\n",
        "data = pnd.concat(final_df)"
      ],
      "metadata": {
        "id": "XkJfPXlSrOUj"
      },
      "execution_count": null,
      "outputs": []
    },
    {
      "cell_type": "markdown",
      "source": [
        "> Plot the center of Australia as the base for the geographical heatmap."
      ],
      "metadata": {
        "id": "Q6SGcpufrThn"
      }
    },
    {
      "cell_type": "code",
      "source": [
        "m = folium.Map([-23.07, 132.08], zoom_start=4)"
      ],
      "metadata": {
        "id": "c7SwOZ98rWM_"
      },
      "execution_count": null,
      "outputs": []
    },
    {
      "cell_type": "markdown",
      "source": [
        "> Plot the FRP using the latitude, longitude, and median FRP values of each date and add it to the map of Australia for visualizing the geographical heatmap <a href='https://stackoverflow.com/questions/61301081/folium-heatmaps'>[8]</a>."
      ],
      "metadata": {
        "id": "DVOFP6jUraCj"
      }
    },
    {
      "cell_type": "code",
      "execution_count": null,
      "metadata": {
        "id": "x3wwDHRsV-Ve",
        "vscode": {
          "languageId": "python"
        },
        "colab": {
          "base_uri": "https://localhost:8080/",
          "height": 866
        },
        "outputId": "2634c0d2-5202-4504-c8d3-bac4a703fe96"
      },
      "outputs": [
        {
          "output_type": "execute_result",
          "data": {
            "text/plain": [
              "<folium.folium.Map at 0x7f23c39b6cd0>"
            ],
            "text/html": [
              "<div style=\"width:100%;\"><div style=\"position:relative;width:100%;height:0;padding-bottom:60%;\"><span style=\"color:#565656\">Make this Notebook Trusted to load map: File -> Trust Notebook</span><iframe srcdoc=\"&lt;!DOCTYPE html&gt;\n",
              "&lt;head&gt;    \n",
              "    &lt;meta http-equiv=&quot;content-type&quot; content=&quot;text/html; charset=UTF-8&quot; /&gt;\n",
              "    &lt;script&gt;L_PREFER_CANVAS=false; L_NO_TOUCH=false; L_DISABLE_3D=false;&lt;/script&gt;\n",
              "    &lt;script src=&quot;https://cdn.jsdelivr.net/npm/leaflet@1.4.0/dist/leaflet.js&quot;&gt;&lt;/script&gt;\n",
              "    &lt;script src=&quot;https://code.jquery.com/jquery-1.12.4.min.js&quot;&gt;&lt;/script&gt;\n",
              "    &lt;script src=&quot;https://maxcdn.bootstrapcdn.com/bootstrap/3.2.0/js/bootstrap.min.js&quot;&gt;&lt;/script&gt;\n",
              "    &lt;script src=&quot;https://cdnjs.cloudflare.com/ajax/libs/Leaflet.awesome-markers/2.0.2/leaflet.awesome-markers.js&quot;&gt;&lt;/script&gt;\n",
              "    &lt;link rel=&quot;stylesheet&quot; href=&quot;https://cdn.jsdelivr.net/npm/leaflet@1.4.0/dist/leaflet.css&quot;/&gt;\n",
              "    &lt;link rel=&quot;stylesheet&quot; href=&quot;https://maxcdn.bootstrapcdn.com/bootstrap/3.2.0/css/bootstrap.min.css&quot;/&gt;\n",
              "    &lt;link rel=&quot;stylesheet&quot; href=&quot;https://maxcdn.bootstrapcdn.com/bootstrap/3.2.0/css/bootstrap-theme.min.css&quot;/&gt;\n",
              "    &lt;link rel=&quot;stylesheet&quot; href=&quot;https://maxcdn.bootstrapcdn.com/font-awesome/4.6.3/css/font-awesome.min.css&quot;/&gt;\n",
              "    &lt;link rel=&quot;stylesheet&quot; href=&quot;https://cdnjs.cloudflare.com/ajax/libs/Leaflet.awesome-markers/2.0.2/leaflet.awesome-markers.css&quot;/&gt;\n",
              "    &lt;link rel=&quot;stylesheet&quot; href=&quot;https://rawcdn.githack.com/python-visualization/folium/master/folium/templates/leaflet.awesome.rotate.css&quot;/&gt;\n",
              "    &lt;style&gt;html, body {width: 100%;height: 100%;margin: 0;padding: 0;}&lt;/style&gt;\n",
              "    &lt;style&gt;#map {position:absolute;top:0;bottom:0;right:0;left:0;}&lt;/style&gt;\n",
              "    \n",
              "    &lt;meta name=&quot;viewport&quot; content=&quot;width=device-width,\n",
              "        initial-scale=1.0, maximum-scale=1.0, user-scalable=no&quot; /&gt;\n",
              "    &lt;style&gt;#map_c8aef6d80a1164e5f14ff996c7b1929a {\n",
              "        position: relative;\n",
              "        width: 100.0%;\n",
              "        height: 100.0%;\n",
              "        left: 0.0%;\n",
              "        top: 0.0%;\n",
              "        }\n",
              "    &lt;/style&gt;\n",
              "    &lt;script src=&quot;https://leaflet.github.io/Leaflet.heat/dist/leaflet-heat.js&quot;&gt;&lt;/script&gt;\n",
              "&lt;/head&gt;\n",
              "&lt;body&gt;    \n",
              "    \n",
              "    &lt;div class=&quot;folium-map&quot; id=&quot;map_c8aef6d80a1164e5f14ff996c7b1929a&quot; &gt;&lt;/div&gt;\n",
              "&lt;/body&gt;\n",
              "&lt;script&gt;    \n",
              "    \n",
              "    \n",
              "        var bounds = null;\n",
              "    \n",
              "\n",
              "    var map_c8aef6d80a1164e5f14ff996c7b1929a = L.map(\n",
              "        &#x27;map_c8aef6d80a1164e5f14ff996c7b1929a&#x27;, {\n",
              "        center: [-23.07, 132.08],\n",
              "        zoom: 4,\n",
              "        maxBounds: bounds,\n",
              "        layers: [],\n",
              "        worldCopyJump: false,\n",
              "        crs: L.CRS.EPSG3857,\n",
              "        zoomControl: true,\n",
              "        });\n",
              "\n",
              "\n",
              "    \n",
              "    var tile_layer_2e9333bd07ba1b0e325ab8f70212f31c = L.tileLayer(\n",
              "        &#x27;https://{s}.tile.openstreetmap.org/{z}/{x}/{y}.png&#x27;,\n",
              "        {\n",
              "        &quot;attribution&quot;: null,\n",
              "        &quot;detectRetina&quot;: false,\n",
              "        &quot;maxNativeZoom&quot;: 18,\n",
              "        &quot;maxZoom&quot;: 18,\n",
              "        &quot;minZoom&quot;: 0,\n",
              "        &quot;noWrap&quot;: false,\n",
              "        &quot;opacity&quot;: 1,\n",
              "        &quot;subdomains&quot;: &quot;abc&quot;,\n",
              "        &quot;tms&quot;: false\n",
              "}).addTo(map_c8aef6d80a1164e5f14ff996c7b1929a);\n",
              "    \n",
              "            var heat_map_91c2746d2d86a42423e4225b9cc790ff = L.heatLayer(\n",
              "                [[-38.1155, 143.783, 23.9], [-38.0256, 146.5422, 20.6], [-37.8469, 142.8775, 25.5], [-37.7637, 143.4071, 25.3], [-37.3918, 143.1182, 20.5], [-37.3234, 143.806, 25.3], [-36.9518, 142.1901, 16.3], [-36.8978, 141.0966, 24.1], [-36.7321, 143.1978, 21.9], [-36.7133, 142.4337, 20.4], [-36.4659, 144.4988, 23.3], [-36.42, 141.6999, 21.1], [-36.3093, 146.1142, 16.3], [-35.5823, 145.0798, 46.3], [-35.3292, 147.0205, 22.8], [-35.1883, 149.6134, 24.0], [-34.956, 139.7219, 20.4], [-34.7888, 147.4786, 22.8], [-34.6615, 146.7522, 22.8], [-34.564, 148.4433, 21.2], [-34.5602, 117.6555, 19.1], [-34.5395, 117.9419, 26.8], [-34.3621, 117.2647, 19.1], [-34.3585, 139.1378, 27.2], [-34.044, 116.0026, 19.9], [-34.0194, 117.6682, 27.5], [-33.9882, 116.0815, 20.7], [-33.8925, 147.8832, 16.3], [-33.8884, 148.458, 29.2], [-33.6988, 135.8406, 22.3], [-33.6381, 117.2569, 20.5], [-33.5396, 116.6015, 29.9], [-33.3894, 147.1266, 22.2], [-33.2569, 117.1686, 18.5], [-33.2471, 147.747, 16.3], [-33.164, 149.3527, 34.2], [-33.1538, 146.5044, 33.0], [-33.1504, 116.6364, 27.5], [-33.1406, 117.2308, 16.7], [-33.1046, 146.7629, 34.7], [-33.0965, 119.8017, 26.5], [-33.0786, 116.7427, 16.7], [-32.7814, 116.18, 20.7], [-32.596, 146.624, 18.1], [-32.5461, 149.2333, 24.7], [-32.312, 116.0849, 37.4], [-32.2345, 116.9703, 26.6], [-32.1409, 150.1049, 66.9], [-32.1341, 118.3835, 48.5], [-32.0571, 126.96, 42.8], [-32.0354, 127.1586, 37.8], [-31.9862, 116.2705, 25.3], [-31.8641, 117.121, 16.7], [-31.8119, 145.6481, 22.2], [-31.8077, 145.6508, 19.1], [-31.7765, 116.0662, 22.9], [-31.7747, 147.6817, 18.4], [-31.7435, 117.6636, 22.9], [-31.736, 117.2365, 20.7], [-31.6993, 151.8265, 85.0], [-31.6018, 117.6405, 16.3], [-31.4959, 118.6588, 26.1], [-31.4349, 151.8703, 40.2], [-31.3571, 117.9928, 22.8], [-31.3489, 151.696, 20.0], [-31.3074, 117.3991, 16.3], [-31.252, 117.7494, 29.2], [-31.1611, 117.0747, 29.0], [-31.1603, 116.7138, 26.5], [-31.1519, 116.1086, 18.6], [-31.0497, 115.8906, 37.4], [-30.71, 117.5313, 20.5], [-30.47, 116.8608, 32.4], [-30.4136, 116.5736, 44.3], [-30.237, 117.0129, 56.5], [-30.2201, 148.3842, 25.7], [-30.1746, 145.3796, 27.1], [-30.1409, 123.836, 155.7], [-29.9876, 122.9884, 37.2], [-29.8482, 151.4399, 18.2], [-29.7641, 124.7785, 56.2], [-29.7376, 116.1275, 16.3], [-29.7102, 115.6268, 21.2], [-29.6916, 153.2527, 27.4], [-29.5169, 115.8039, 24.6], [-29.4794, 152.5173, 28.4], [-29.4027, 152.5533, 20.2], [-29.224, 124.2292, 34.4], [-29.2018, 128.8579, 63.6], [-29.1422, 152.2651, 19.4], [-28.9482, 147.5042, 32.5], [-28.9065, 149.679, 20.0], [-28.8548, 114.8959, 46.5], [-28.8259, 114.8367, 16.3], [-28.7352, 115.4518, 26.5], [-28.7169, 126.4457, 37.2], [-28.6519, 142.4841, 28.7], [-28.5068, 125.6486, 53.6], [-28.4811, 148.3672, 13.4], [-28.3452, 149.7828, 27.7], [-28.3433, 114.5689, 20.6], [-28.224, 152.6371, 29.7], [-28.2102, 152.0486, 37.0], [-28.1158, 151.0328, 17.5], [-27.954, 114.2343, 18.5], [-27.9093, 150.6042, 56.9], [-27.5871, 150.3229, 28.2], [-27.2009, 149.7326, 32.2], [-27.2004, 149.8519, 25.3], [-27.1454, 148.1839, 35.6], [-26.7203, 147.6875, 24.7], [-26.5936, 152.3539, 20.2], [-26.4804, 151.5789, 46.3], [-26.2723, 151.026, 22.9], [-26.2345, 149.5103, 31.8], [-26.1021, 150.3457, 33.5], [-26.0748, 150.6967, 46.5], [-25.9846, 147.4301, 29.7], [-25.8754, 152.4835, 21.5], [-25.3891, 149.7616, 28.5], [-25.3641, 149.1327, 30.1], [-25.266, 149.1948, 41.3], [-25.2523, 149.9284, 37.4], [-25.1851, 148.109, 26.0], [-25.0396, 149.4801, 31.5], [-24.9213, 145.2496, 19.4], [-24.8662, 119.0782, 40.9], [-24.5342, 151.8845, 36.3], [-24.4944, 149.2207, 37.4], [-24.4774, 148.11, 34.7], [-24.4319, 135.7934, 53.6], [-24.1169, 145.8153, 37.1], [-24.0518, 148.6636, 52.3], [-23.7579, 150.8451, 51.0], [-23.7057, 147.5309, 18.5], [-23.6914, 151.2711, 31.9], [-23.6419, 118.5538, 36.9], [-23.6149, 114.6796, 27.5], [-23.5943, 147.3388, 37.8], [-23.5807, 150.1552, 24.0], [-23.1927, 133.1335, 52.7], [-23.0065, 122.8483, 37.1], [-22.9732, 122.1448, 21.5], [-22.9685, 121.114, 52.7], [-22.919, 150.6949, 26.3], [-22.835, 150.4026, 27.0], [-22.7704, 128.8828, 18.2], [-22.7474, 117.5913, 56.0], [-22.7335, 119.6625, 28.1], [-22.7089, 119.9142, 43.1], [-22.6953, 150.608, 43.2], [-22.6618, 130.5486, 15.6], [-22.6512, 133.9458, 15.6], [-22.5972, 119.62, 36.9], [-22.5478, 113.7844, 63.4], [-22.5053, 119.1775, 21.1], [-22.4328, 131.08, 23.1], [-22.4276, 123.3534, 44.7], [-22.2886, 119.439, 38.7], [-22.2861, 115.9808, 43.1], [-22.2796, 123.7539, 38.7], [-22.2556, 118.2356, 19.5], [-22.2137, 133.496, 29.7], [-22.197, 127.9471, 53.6], [-22.1721, 116.0875, 26.3], [-22.1512, 117.3294, 84.7], [-22.0437, 144.064, 19.2], [-21.9811, 134.7767, 42.9], [-21.9279, 118.3148, 54.7], [-21.8483, 129.6615, 23.9], [-21.7912, 136.338, 35.0], [-21.7582, 116.105, 22.8], [-21.7156, 116.0692, 57.2], [-21.6929, 119.3931, 30.9], [-21.6061, 118.1533, 46.5], [-21.4504, 129.3281, 28.6], [-21.4168, 124.8572, 24.0], [-21.35, 130.3425, 21.4], [-21.3428, 135.3596, 47.9], [-21.2935, 129.2749, 23.3], [-21.2031, 127.9486, 35.5], [-21.0161, 124.0527, 46.5], [-20.8513, 148.4108, 24.1], [-20.8042, 125.2489, 41.3], [-20.7428, 129.2886, 32.2], [-20.6629, 133.3629, 46.3], [-20.6164, 128.8012, 39.0], [-20.6064, 129.1033, 19.4], [-20.5677, 136.4975, 35.4], [-20.5562, 127.9654, 19.6], [-20.548, 128.2258, 44.8], [-20.5366, 124.1445, 47.9], [-20.5213, 129.0214, 15.6], [-20.3486, 134.0186, 29.0], [-20.3155, 135.7281, 47.9], [-20.3115, 133.9698, 22.2], [-20.2986, 134.1109, 33.3], [-20.2404, 122.1907, 29.0], [-20.2243, 122.3871, 33.4], [-20.2063, 136.2014, 35.4], [-20.1978, 136.0163, 35.4], [-20.179, 126.7226, 20.9], [-20.1699, 128.3369, 33.8], [-20.1523, 125.1368, 43.2], [-20.0839, 127.4844, 21.5], [-20.0739, 136.8453, 21.7], [-19.9365, 136.6129, 28.0], [-19.9239, 126.9719, 42.2], [-19.8956, 129.956, 52.7], [-19.7252, 139.7685, 31.5], [-19.7082, 127.662, 35.4], [-19.5902, 131.8318, 36.6], [-19.5236, 142.7686, 48.0], [-19.4395, 144.4494, 62.4], [-19.4194, 127.747, 27.5], [-19.3782, 131.1623, 36.7], [-19.3215, 124.1848, 34.7], [-19.2461, 127.4911, 41.5], [-19.1971, 131.6997, 29.7], [-19.0949, 124.7675, 52.7], [-18.8908, 125.1278, 37.1], [-18.852, 137.9387, 42.2], [-18.7053, 128.9861, 44.8], [-18.6893, 123.746, 40.6], [-18.6148, 126.7772, 35.5], [-18.6075, 123.5741, 34.8], [-18.5548, 125.1092, 15.6], [-18.5151, 125.7969, 24.7], [-18.5058, 123.7198, 44.8], [-18.446, 138.7173, 33.4], [-18.4044, 145.5089, 30.1], [-18.2355, 145.0627, 35.5], [-18.1977, 128.5947, 23.9], [-18.0818, 144.9562, 31.5], [-18.0532, 144.7366, 16.9], [-18.048, 145.2505, 21.0], [-17.8769, 122.3768, 19.8], [-17.849, 132.2952, 47.9], [-17.8121, 131.9881, 47.7], [-17.8117, 132.2162, 45.0], [-17.7784, 129.0698, 55.7], [-17.7251, 125.1425, 17.8], [-17.6776, 133.583, 53.0], [-17.6743, 128.4189, 42.2], [-17.6616, 143.5905, 53.0], [-17.618, 125.792, 43.2], [-17.5799, 137.6761, 26.5], [-17.5269, 137.933, 33.3], [-17.4744, 122.3317, 19.5], [-17.4665, 122.3089, 36.5], [-17.4645, 137.7552, 33.3], [-17.4644, 129.0916, 47.1], [-17.3846, 137.9267, 41.8], [-17.3785, 123.0343, 51.5], [-17.3275, 126.8082, 21.2], [-17.3259, 128.7538, 41.3], [-17.2329, 122.7599, 33.4], [-17.2003, 131.8069, 35.0], [-17.1506, 124.7671, 21.2], [-17.131, 143.9556, 37.1], [-17.0886, 125.3066, 20.5], [-17.0143, 138.164, 35.5], [-16.9958, 125.3107, 20.5], [-16.8813, 145.2905, 32.2], [-16.868, 138.5393, 13.7], [-16.8656, 137.3861, 25.7], [-16.8419, 144.1171, 39.7], [-16.7612, 134.7392, 27.5], [-16.7098, 145.534, 33.2], [-16.6987, 136.2562, 20.0], [-16.6663, 127.3225, 28.6], [-16.6644, 122.9179, 17.0], [-16.6364, 128.2667, 20.2], [-16.583, 137.5582, 47.6], [-16.4586, 123.9085, 43.1], [-16.4481, 130.7267, 39.5], [-16.3457, 136.3569, 20.0], [-16.3265, 128.4402, 19.6], [-16.2347, 134.2731, 51.0], [-16.1916, 134.4096, 35.0], [-16.1501, 130.5748, 24.7], [-16.1237, 125.5928, 17.2], [-16.0744, 131.9562, 20.6], [-16.0481, 137.0525, 16.4], [-16.0266, 136.8693, 33.6], [-15.8665, 124.5474, 47.9], [-15.8328, 143.7894, 24.5], [-15.8196, 131.8541, 23.3], [-15.799, 125.4333, 49.6], [-15.7627, 131.8643, 23.3], [-15.7504, 125.3306, 20.6], [-15.678, 129.7363, 36.7], [-15.5715, 131.6136, 24.2], [-15.5681, 126.0774, 26.4], [-15.5632, 126.263, 18.5], [-15.5602, 130.3951, 20.6], [-15.5348, 125.4857, 24.0], [-15.5316, 124.5989, 21.7], [-15.4671, 126.1857, 21.4], [-15.4142, 125.9718, 29.0], [-15.4011, 144.2074, 36.7], [-15.1974, 128.3449, 24.0], [-14.9959, 133.7036, 30.1], [-14.9609, 141.8845, 18.6], [-14.9268, 127.9555, 18.5], [-14.6099, 130.8727, 16.4], [-14.5478, 144.2457, 25.0], [-14.5026, 141.6352, 28.1], [-14.4654, 130.5767, 20.7], [-14.418, 131.1681, 18.8], [-14.4089, 131.3607, 27.5], [-14.3545, 144.3249, 17.8], [-14.3293, 126.6423, 15.6], [-14.3275, 129.8688, 37.0], [-14.2689, 129.6008, 20.2], [-14.2456, 142.1295, 25.0], [-14.2104, 129.5614, 15.6], [-14.1136, 130.8521, 35.1], [-14.0827, 133.0615, 14.8], [-14.0013, 141.7164, 18.6], [-13.9612, 141.6823, 21.9], [-13.887, 142.64, 27.2], [-13.8614, 130.0798, 29.0], [-13.8084, 130.1039, 18.8], [-13.7906, 130.0575, 25.9], [-13.7661, 142.1511, 17.9], [-13.7423, 133.8063, 29.0], [-13.7032, 133.8214, 22.2], [-13.656, 129.8558, 36.7], [-13.6039, 133.0565, 25.3], [-13.5769, 131.089, 30.1], [-13.5182, 132.9218, 27.5], [-13.4496, 133.01, 16.4], [-13.4188, 130.9301, 20.0], [-13.3046, 131.432, 28.0], [-13.2687, 142.4299, 25.0], [-13.2493, 132.5568, 22.2], [-13.2351, 131.07, 23.1], [-13.2324, 132.7672, 17.8], [-13.2086, 135.4031, 25.9], [-13.1695, 132.598, 15.4], [-13.0818, 130.7806, 24.4], [-13.0724, 133.9564, 14.8], [-13.0422, 133.2411, 16.7], [-13.039, 132.8327, 22.2], [-13.0065, 135.8814, 42.2], [-12.985, 133.4538, 23.9], [-12.9587, 132.5803, 17.2], [-12.9503, 141.8781, 29.0], [-12.9361, 131.4459, 19.1], [-12.9355, 132.8541, 17.8], [-12.8453, 130.555, 47.9], [-12.8426, 130.4938, 30.1], [-12.6513, 131.8438, 23.6], [-12.6293, 142.0241, 45.5], [-12.6138, 132.6023, 41.8], [-12.5717, 133.7228, 23.1], [-12.5579, 132.4042, 15.1], [-12.5063, 136.1117, 23.6], [-12.4809, 132.3008, 31.2], [-12.48, 134.914, 36.6], [-12.476, 133.1341, 16.4], [-12.4617, 132.1286, 15.1], [-12.3888, 133.3949, 13.7], [-12.3225, 134.72, 33.7], [-12.3039, 133.3419, 28.6], [-12.2988, 132.8463, 28.3], [-12.2942, 132.4731, 27.0], [-12.2463, 133.441, 28.6], [-12.2379, 134.2857, 31.0], [-12.1614, 134.0573, 26.5], [-12.055, 132.8436, 28.7], [-12.042, 132.945, 36.7], [-11.9247, 133.4269, 27.0], [-11.7935, 142.0225, 26.5], [-11.7868, 130.5448, 14.8], [-11.7603, 130.1263, 45.5], [-11.6934, 142.2021, 27.4], [-11.6492, 131.0374, 14.8], [-11.4794, 130.3243, 15.4], [-11.3335, 132.1381, 36.5], [-11.3334, 132.4529, 33.3]],\n",
              "                {\n",
              "                    minOpacity: 0.5,\n",
              "                    maxZoom: 13,\n",
              "                    max: 1.0,\n",
              "                    radius: 12,\n",
              "                    blur: 15,\n",
              "                    gradient: null\n",
              "                    })\n",
              "                .addTo(map_c8aef6d80a1164e5f14ff996c7b1929a);\n",
              "        \n",
              "&lt;/script&gt;\" style=\"position:absolute;width:100%;height:100%;left:0;top:0;border:none !important;\" allowfullscreen webkitallowfullscreen mozallowfullscreen></iframe></div></div>"
            ]
          },
          "metadata": {},
          "execution_count": 101
        }
      ],
      "source": [
        "HeatMap(data=data[['latitude','longitude', 'frp']].groupby(['latitude','longitude',]).sum().reset_index().values.tolist(),radius=12, max_zoom=13).add_to(m)\n",
        "m"
      ]
    },
    {
      "cell_type": "markdown",
      "source": [
        "**2. Mark the “Fire activity” (lat, long = -35.6,149.12) on the city map**"
      ],
      "metadata": {
        "id": "cYOp8x5wNU4Q"
      }
    },
    {
      "cell_type": "markdown",
      "source": [
        "> Plot the given latitude (35.6), and longitude (149.12) values on the map using folium."
      ],
      "metadata": {
        "id": "XIYM9mGZseby"
      }
    },
    {
      "cell_type": "code",
      "source": [
        "map_fa = folium.Map(location=[-35.6,149.12])"
      ],
      "metadata": {
        "id": "6XRoNjQxsgvh"
      },
      "execution_count": null,
      "outputs": []
    },
    {
      "cell_type": "markdown",
      "source": [
        "> Add a marker of “Fire Activity” <a href='https://python.plainenglish.io/using-folium-to-map-latitude-and-longitude-491f8dcc81ad?gi=8ac091e88876'>[9]</a> with a red-colored fire icon using a folium marker and add it to the map."
      ],
      "metadata": {
        "id": "O6Ta9qynsj8O"
      }
    },
    {
      "cell_type": "code",
      "source": [
        "folium.Marker(location = [-35.6,149.12], popup= \"Fire Activity\", icon = folium.Icon(color='red', icon='fire')).add_to(map_fa)\n",
        "map_fa"
      ],
      "metadata": {
        "id": "mDHajn0ZNccR",
        "colab": {
          "base_uri": "https://localhost:8080/",
          "height": 866
        },
        "outputId": "703e48a4-b667-4eb2-9855-fbb81b05b656"
      },
      "execution_count": null,
      "outputs": [
        {
          "output_type": "execute_result",
          "data": {
            "text/plain": [
              "<folium.folium.Map at 0x7f23c3961110>"
            ],
            "text/html": [
              "<div style=\"width:100%;\"><div style=\"position:relative;width:100%;height:0;padding-bottom:60%;\"><span style=\"color:#565656\">Make this Notebook Trusted to load map: File -> Trust Notebook</span><iframe srcdoc=\"&lt;!DOCTYPE html&gt;\n",
              "&lt;head&gt;    \n",
              "    &lt;meta http-equiv=&quot;content-type&quot; content=&quot;text/html; charset=UTF-8&quot; /&gt;\n",
              "    &lt;script&gt;L_PREFER_CANVAS=false; L_NO_TOUCH=false; L_DISABLE_3D=false;&lt;/script&gt;\n",
              "    &lt;script src=&quot;https://cdn.jsdelivr.net/npm/leaflet@1.4.0/dist/leaflet.js&quot;&gt;&lt;/script&gt;\n",
              "    &lt;script src=&quot;https://code.jquery.com/jquery-1.12.4.min.js&quot;&gt;&lt;/script&gt;\n",
              "    &lt;script src=&quot;https://maxcdn.bootstrapcdn.com/bootstrap/3.2.0/js/bootstrap.min.js&quot;&gt;&lt;/script&gt;\n",
              "    &lt;script src=&quot;https://cdnjs.cloudflare.com/ajax/libs/Leaflet.awesome-markers/2.0.2/leaflet.awesome-markers.js&quot;&gt;&lt;/script&gt;\n",
              "    &lt;link rel=&quot;stylesheet&quot; href=&quot;https://cdn.jsdelivr.net/npm/leaflet@1.4.0/dist/leaflet.css&quot;/&gt;\n",
              "    &lt;link rel=&quot;stylesheet&quot; href=&quot;https://maxcdn.bootstrapcdn.com/bootstrap/3.2.0/css/bootstrap.min.css&quot;/&gt;\n",
              "    &lt;link rel=&quot;stylesheet&quot; href=&quot;https://maxcdn.bootstrapcdn.com/bootstrap/3.2.0/css/bootstrap-theme.min.css&quot;/&gt;\n",
              "    &lt;link rel=&quot;stylesheet&quot; href=&quot;https://maxcdn.bootstrapcdn.com/font-awesome/4.6.3/css/font-awesome.min.css&quot;/&gt;\n",
              "    &lt;link rel=&quot;stylesheet&quot; href=&quot;https://cdnjs.cloudflare.com/ajax/libs/Leaflet.awesome-markers/2.0.2/leaflet.awesome-markers.css&quot;/&gt;\n",
              "    &lt;link rel=&quot;stylesheet&quot; href=&quot;https://rawcdn.githack.com/python-visualization/folium/master/folium/templates/leaflet.awesome.rotate.css&quot;/&gt;\n",
              "    &lt;style&gt;html, body {width: 100%;height: 100%;margin: 0;padding: 0;}&lt;/style&gt;\n",
              "    &lt;style&gt;#map {position:absolute;top:0;bottom:0;right:0;left:0;}&lt;/style&gt;\n",
              "    \n",
              "    &lt;meta name=&quot;viewport&quot; content=&quot;width=device-width,\n",
              "        initial-scale=1.0, maximum-scale=1.0, user-scalable=no&quot; /&gt;\n",
              "    &lt;style&gt;#map_ed906e75b58df8d22ab06fb65f5bfc5d {\n",
              "        position: relative;\n",
              "        width: 100.0%;\n",
              "        height: 100.0%;\n",
              "        left: 0.0%;\n",
              "        top: 0.0%;\n",
              "        }\n",
              "    &lt;/style&gt;\n",
              "&lt;/head&gt;\n",
              "&lt;body&gt;    \n",
              "    \n",
              "    &lt;div class=&quot;folium-map&quot; id=&quot;map_ed906e75b58df8d22ab06fb65f5bfc5d&quot; &gt;&lt;/div&gt;\n",
              "&lt;/body&gt;\n",
              "&lt;script&gt;    \n",
              "    \n",
              "    \n",
              "        var bounds = null;\n",
              "    \n",
              "\n",
              "    var map_ed906e75b58df8d22ab06fb65f5bfc5d = L.map(\n",
              "        &#x27;map_ed906e75b58df8d22ab06fb65f5bfc5d&#x27;, {\n",
              "        center: [-35.6, 149.12],\n",
              "        zoom: 10,\n",
              "        maxBounds: bounds,\n",
              "        layers: [],\n",
              "        worldCopyJump: false,\n",
              "        crs: L.CRS.EPSG3857,\n",
              "        zoomControl: true,\n",
              "        });\n",
              "\n",
              "\n",
              "    \n",
              "    var tile_layer_207f9657eddc55f7d1487e6975084c6f = L.tileLayer(\n",
              "        &#x27;https://{s}.tile.openstreetmap.org/{z}/{x}/{y}.png&#x27;,\n",
              "        {\n",
              "        &quot;attribution&quot;: null,\n",
              "        &quot;detectRetina&quot;: false,\n",
              "        &quot;maxNativeZoom&quot;: 18,\n",
              "        &quot;maxZoom&quot;: 18,\n",
              "        &quot;minZoom&quot;: 0,\n",
              "        &quot;noWrap&quot;: false,\n",
              "        &quot;opacity&quot;: 1,\n",
              "        &quot;subdomains&quot;: &quot;abc&quot;,\n",
              "        &quot;tms&quot;: false\n",
              "}).addTo(map_ed906e75b58df8d22ab06fb65f5bfc5d);\n",
              "    \n",
              "        var marker_a2f153c34cc7337a3212867ab73eff28 = L.marker(\n",
              "            [-35.6, 149.12],\n",
              "            {\n",
              "                icon: new L.Icon.Default(),\n",
              "                }\n",
              "            ).addTo(map_ed906e75b58df8d22ab06fb65f5bfc5d);\n",
              "        \n",
              "    \n",
              "\n",
              "                var icon_ca8adf7749bdb7e99e031b37997e2e32 = L.AwesomeMarkers.icon({\n",
              "                    icon: &#x27;fire&#x27;,\n",
              "                    iconColor: &#x27;white&#x27;,\n",
              "                    markerColor: &#x27;red&#x27;,\n",
              "                    prefix: &#x27;glyphicon&#x27;,\n",
              "                    extraClasses: &#x27;fa-rotate-0&#x27;\n",
              "                    });\n",
              "                marker_a2f153c34cc7337a3212867ab73eff28.setIcon(icon_ca8adf7749bdb7e99e031b37997e2e32);\n",
              "            \n",
              "    \n",
              "            var popup_6836bce04e6013042a70504eec69c37f = L.popup({maxWidth: &#x27;100%&#x27;\n",
              "            \n",
              "            });\n",
              "\n",
              "            \n",
              "                var html_433e66a38a5b1e47834baf27121771c5 = $(`&lt;div id=&quot;html_433e66a38a5b1e47834baf27121771c5&quot; style=&quot;width: 100.0%; height: 100.0%;&quot;&gt;Fire Activity&lt;/div&gt;`)[0];\n",
              "                popup_6836bce04e6013042a70504eec69c37f.setContent(html_433e66a38a5b1e47834baf27121771c5);\n",
              "            \n",
              "\n",
              "            marker_a2f153c34cc7337a3212867ab73eff28.bindPopup(popup_6836bce04e6013042a70504eec69c37f)\n",
              "            ;\n",
              "\n",
              "            \n",
              "        \n",
              "&lt;/script&gt;\" style=\"position:absolute;width:100%;height:100%;left:0;top:0;border:none !important;\" allowfullscreen webkitallowfullscreen mozallowfullscreen></iframe></div></div>"
            ]
          },
          "metadata": {},
          "execution_count": 103
        }
      ]
    },
    {
      "cell_type": "markdown",
      "source": [
        "**3. Mark the regions with the highest recorded fire radiation in a day for measurements where \"acq_date = 2020-01-08\".**\n"
      ],
      "metadata": {
        "id": "NUJgKc7hNdCI"
      }
    },
    {
      "cell_type": "markdown",
      "source": [
        "> Read the \"latitude\", \"longitude\", \"FRP\", \"acq_date\", \"satellite”, and “acq_date” values from the ‘modis_2020_Australia.csv’ file to create ‘df_2020’ data frame with “acq_date” values parsed as dates. Since we need to out the highest recorded fire radiation for the date of 2020-01-08, filter the data frame using 2020-01-08 values of “acq_date”. "
      ],
      "metadata": {
        "id": "PWO6I6qws0Sk"
      }
    },
    {
      "cell_type": "code",
      "source": [
        "file = open(\"/modis_2020_Australia.csv\")\n",
        "df_2020 = pnd.read_csv(file, \n",
        "                 usecols=[\"latitude\", \"longitude\", \"frp\",\n",
        "                 \"acq_date\"], parse_dates=[\"acq_date\"])[lambda x: x['acq_date'] == \"2020-01-08\"]\n"
      ],
      "metadata": {
        "id": "amJPhUu2s2gj"
      },
      "execution_count": null,
      "outputs": []
    },
    {
      "cell_type": "markdown",
      "source": [
        "> Create ‘df_max_frp_2020’ data frame by grouping the ‘df_2020’ using the “acq_date” values and then calculate the maximum values of FRP for each date."
      ],
      "metadata": {
        "id": "VIUDO_tvs5Lx"
      }
    },
    {
      "cell_type": "code",
      "source": [
        "df_max_frp_2020 = df_2020.groupby(pnd.Grouper(key=\"acq_date\"))[\"frp\"].max()"
      ],
      "metadata": {
        "id": "f92ysDk0s9pi"
      },
      "execution_count": null,
      "outputs": []
    },
    {
      "cell_type": "markdown",
      "source": [
        "> Find the corresponding “latitude” and “longitude” values for the calculated maximum FRP value."
      ],
      "metadata": {
        "id": "k4OrjiettBUK"
      }
    },
    {
      "cell_type": "code",
      "source": [
        "final_df = []\n",
        "for date, frp in df_max_frp_2020.items():\n",
        "    final_df.append(df_2020[(df_2020[\"frp\"]==frp)])\n",
        "data = pnd.concat(final_df)\n",
        "data.head(1)"
      ],
      "metadata": {
        "colab": {
          "base_uri": "https://localhost:8080/",
          "height": 81
        },
        "id": "AzQWtlEmtEaX",
        "outputId": "dfc70886-bc72-4deb-ba2f-65a025666d40"
      },
      "execution_count": null,
      "outputs": [
        {
          "output_type": "execute_result",
          "data": {
            "text/plain": [
              "       latitude  longitude   acq_date      frp\n",
              "23118    -32.89     124.10 2020-01-08 11164.10"
            ],
            "text/html": [
              "\n",
              "  <div id=\"df-19df7ea9-d3f8-46dc-bf69-fcd09cc17c14\">\n",
              "    <div class=\"colab-df-container\">\n",
              "      <div>\n",
              "<style scoped>\n",
              "    .dataframe tbody tr th:only-of-type {\n",
              "        vertical-align: middle;\n",
              "    }\n",
              "\n",
              "    .dataframe tbody tr th {\n",
              "        vertical-align: top;\n",
              "    }\n",
              "\n",
              "    .dataframe thead th {\n",
              "        text-align: right;\n",
              "    }\n",
              "</style>\n",
              "<table border=\"1\" class=\"dataframe\">\n",
              "  <thead>\n",
              "    <tr style=\"text-align: right;\">\n",
              "      <th></th>\n",
              "      <th>latitude</th>\n",
              "      <th>longitude</th>\n",
              "      <th>acq_date</th>\n",
              "      <th>frp</th>\n",
              "    </tr>\n",
              "  </thead>\n",
              "  <tbody>\n",
              "    <tr>\n",
              "      <th>23118</th>\n",
              "      <td>-32.89</td>\n",
              "      <td>124.10</td>\n",
              "      <td>2020-01-08</td>\n",
              "      <td>11164.10</td>\n",
              "    </tr>\n",
              "  </tbody>\n",
              "</table>\n",
              "</div>\n",
              "      <button class=\"colab-df-convert\" onclick=\"convertToInteractive('df-19df7ea9-d3f8-46dc-bf69-fcd09cc17c14')\"\n",
              "              title=\"Convert this dataframe to an interactive table.\"\n",
              "              style=\"display:none;\">\n",
              "        \n",
              "  <svg xmlns=\"http://www.w3.org/2000/svg\" height=\"24px\"viewBox=\"0 0 24 24\"\n",
              "       width=\"24px\">\n",
              "    <path d=\"M0 0h24v24H0V0z\" fill=\"none\"/>\n",
              "    <path d=\"M18.56 5.44l.94 2.06.94-2.06 2.06-.94-2.06-.94-.94-2.06-.94 2.06-2.06.94zm-11 1L8.5 8.5l.94-2.06 2.06-.94-2.06-.94L8.5 2.5l-.94 2.06-2.06.94zm10 10l.94 2.06.94-2.06 2.06-.94-2.06-.94-.94-2.06-.94 2.06-2.06.94z\"/><path d=\"M17.41 7.96l-1.37-1.37c-.4-.4-.92-.59-1.43-.59-.52 0-1.04.2-1.43.59L10.3 9.45l-7.72 7.72c-.78.78-.78 2.05 0 2.83L4 21.41c.39.39.9.59 1.41.59.51 0 1.02-.2 1.41-.59l7.78-7.78 2.81-2.81c.8-.78.8-2.07 0-2.86zM5.41 20L4 18.59l7.72-7.72 1.47 1.35L5.41 20z\"/>\n",
              "  </svg>\n",
              "      </button>\n",
              "      \n",
              "  <style>\n",
              "    .colab-df-container {\n",
              "      display:flex;\n",
              "      flex-wrap:wrap;\n",
              "      gap: 12px;\n",
              "    }\n",
              "\n",
              "    .colab-df-convert {\n",
              "      background-color: #E8F0FE;\n",
              "      border: none;\n",
              "      border-radius: 50%;\n",
              "      cursor: pointer;\n",
              "      display: none;\n",
              "      fill: #1967D2;\n",
              "      height: 32px;\n",
              "      padding: 0 0 0 0;\n",
              "      width: 32px;\n",
              "    }\n",
              "\n",
              "    .colab-df-convert:hover {\n",
              "      background-color: #E2EBFA;\n",
              "      box-shadow: 0px 1px 2px rgba(60, 64, 67, 0.3), 0px 1px 3px 1px rgba(60, 64, 67, 0.15);\n",
              "      fill: #174EA6;\n",
              "    }\n",
              "\n",
              "    [theme=dark] .colab-df-convert {\n",
              "      background-color: #3B4455;\n",
              "      fill: #D2E3FC;\n",
              "    }\n",
              "\n",
              "    [theme=dark] .colab-df-convert:hover {\n",
              "      background-color: #434B5C;\n",
              "      box-shadow: 0px 1px 3px 1px rgba(0, 0, 0, 0.15);\n",
              "      filter: drop-shadow(0px 1px 2px rgba(0, 0, 0, 0.3));\n",
              "      fill: #FFFFFF;\n",
              "    }\n",
              "  </style>\n",
              "\n",
              "      <script>\n",
              "        const buttonEl =\n",
              "          document.querySelector('#df-19df7ea9-d3f8-46dc-bf69-fcd09cc17c14 button.colab-df-convert');\n",
              "        buttonEl.style.display =\n",
              "          google.colab.kernel.accessAllowed ? 'block' : 'none';\n",
              "\n",
              "        async function convertToInteractive(key) {\n",
              "          const element = document.querySelector('#df-19df7ea9-d3f8-46dc-bf69-fcd09cc17c14');\n",
              "          const dataTable =\n",
              "            await google.colab.kernel.invokeFunction('convertToInteractive',\n",
              "                                                     [key], {});\n",
              "          if (!dataTable) return;\n",
              "\n",
              "          const docLinkHtml = 'Like what you see? Visit the ' +\n",
              "            '<a target=\"_blank\" href=https://colab.research.google.com/notebooks/data_table.ipynb>data table notebook</a>'\n",
              "            + ' to learn more about interactive tables.';\n",
              "          element.innerHTML = '';\n",
              "          dataTable['output_type'] = 'display_data';\n",
              "          await google.colab.output.renderOutput(dataTable, element);\n",
              "          const docLink = document.createElement('div');\n",
              "          docLink.innerHTML = docLinkHtml;\n",
              "          element.appendChild(docLink);\n",
              "        }\n",
              "      </script>\n",
              "    </div>\n",
              "  </div>\n",
              "  "
            ]
          },
          "metadata": {},
          "execution_count": 106
        }
      ]
    },
    {
      "cell_type": "markdown",
      "source": [
        "> Plot the calculated latitude (32.89), and longitude (124.1) values on the map using folium."
      ],
      "metadata": {
        "id": "PxjocHNMtGP0"
      }
    },
    {
      "cell_type": "code",
      "source": [
        "print(data[\"latitude\"])\n",
        "print(data[\"longitude\"])\n",
        "map_fa_max = folium.Map(location=[-32.89,124.1])"
      ],
      "metadata": {
        "colab": {
          "base_uri": "https://localhost:8080/"
        },
        "id": "fG1xiH_Nj1D-",
        "outputId": "2cd40c45-b12a-421c-bf8d-24a23fd562d2"
      },
      "execution_count": null,
      "outputs": [
        {
          "output_type": "stream",
          "name": "stdout",
          "text": [
            "23118   -32.89\n",
            "Name: latitude, dtype: float64\n",
            "23118   124.10\n",
            "Name: longitude, dtype: float64\n"
          ]
        }
      ]
    },
    {
      "cell_type": "markdown",
      "source": [
        "> Add a marker of “Highest recorded fire radiation” with a red-colored fire icon using a folium marker and add it to the map."
      ],
      "metadata": {
        "id": "Q4s5iiCgtWf4"
      }
    },
    {
      "cell_type": "code",
      "source": [
        "folium.Marker(location = [-32.89,124.1], popup= \"Highest recorded fire radiation\", icon = folium.Icon(color='red', icon=\"fire\")).add_to(map_fa_max)\n",
        "map_fa_max"
      ],
      "metadata": {
        "colab": {
          "base_uri": "https://localhost:8080/",
          "height": 866
        },
        "id": "UjSBk_tFtaD0",
        "outputId": "59c494de-81bb-44a6-d2b7-716ed1cf2235"
      },
      "execution_count": null,
      "outputs": [
        {
          "output_type": "execute_result",
          "data": {
            "text/plain": [
              "<folium.folium.Map at 0x7f23c14bc6d0>"
            ],
            "text/html": [
              "<div style=\"width:100%;\"><div style=\"position:relative;width:100%;height:0;padding-bottom:60%;\"><span style=\"color:#565656\">Make this Notebook Trusted to load map: File -> Trust Notebook</span><iframe srcdoc=\"&lt;!DOCTYPE html&gt;\n",
              "&lt;head&gt;    \n",
              "    &lt;meta http-equiv=&quot;content-type&quot; content=&quot;text/html; charset=UTF-8&quot; /&gt;\n",
              "    &lt;script&gt;L_PREFER_CANVAS=false; L_NO_TOUCH=false; L_DISABLE_3D=false;&lt;/script&gt;\n",
              "    &lt;script src=&quot;https://cdn.jsdelivr.net/npm/leaflet@1.4.0/dist/leaflet.js&quot;&gt;&lt;/script&gt;\n",
              "    &lt;script src=&quot;https://code.jquery.com/jquery-1.12.4.min.js&quot;&gt;&lt;/script&gt;\n",
              "    &lt;script src=&quot;https://maxcdn.bootstrapcdn.com/bootstrap/3.2.0/js/bootstrap.min.js&quot;&gt;&lt;/script&gt;\n",
              "    &lt;script src=&quot;https://cdnjs.cloudflare.com/ajax/libs/Leaflet.awesome-markers/2.0.2/leaflet.awesome-markers.js&quot;&gt;&lt;/script&gt;\n",
              "    &lt;link rel=&quot;stylesheet&quot; href=&quot;https://cdn.jsdelivr.net/npm/leaflet@1.4.0/dist/leaflet.css&quot;/&gt;\n",
              "    &lt;link rel=&quot;stylesheet&quot; href=&quot;https://maxcdn.bootstrapcdn.com/bootstrap/3.2.0/css/bootstrap.min.css&quot;/&gt;\n",
              "    &lt;link rel=&quot;stylesheet&quot; href=&quot;https://maxcdn.bootstrapcdn.com/bootstrap/3.2.0/css/bootstrap-theme.min.css&quot;/&gt;\n",
              "    &lt;link rel=&quot;stylesheet&quot; href=&quot;https://maxcdn.bootstrapcdn.com/font-awesome/4.6.3/css/font-awesome.min.css&quot;/&gt;\n",
              "    &lt;link rel=&quot;stylesheet&quot; href=&quot;https://cdnjs.cloudflare.com/ajax/libs/Leaflet.awesome-markers/2.0.2/leaflet.awesome-markers.css&quot;/&gt;\n",
              "    &lt;link rel=&quot;stylesheet&quot; href=&quot;https://rawcdn.githack.com/python-visualization/folium/master/folium/templates/leaflet.awesome.rotate.css&quot;/&gt;\n",
              "    &lt;style&gt;html, body {width: 100%;height: 100%;margin: 0;padding: 0;}&lt;/style&gt;\n",
              "    &lt;style&gt;#map {position:absolute;top:0;bottom:0;right:0;left:0;}&lt;/style&gt;\n",
              "    \n",
              "    &lt;meta name=&quot;viewport&quot; content=&quot;width=device-width,\n",
              "        initial-scale=1.0, maximum-scale=1.0, user-scalable=no&quot; /&gt;\n",
              "    &lt;style&gt;#map_20359fc56c52f607a231e6e382822b2b {\n",
              "        position: relative;\n",
              "        width: 100.0%;\n",
              "        height: 100.0%;\n",
              "        left: 0.0%;\n",
              "        top: 0.0%;\n",
              "        }\n",
              "    &lt;/style&gt;\n",
              "&lt;/head&gt;\n",
              "&lt;body&gt;    \n",
              "    \n",
              "    &lt;div class=&quot;folium-map&quot; id=&quot;map_20359fc56c52f607a231e6e382822b2b&quot; &gt;&lt;/div&gt;\n",
              "&lt;/body&gt;\n",
              "&lt;script&gt;    \n",
              "    \n",
              "    \n",
              "        var bounds = null;\n",
              "    \n",
              "\n",
              "    var map_20359fc56c52f607a231e6e382822b2b = L.map(\n",
              "        &#x27;map_20359fc56c52f607a231e6e382822b2b&#x27;, {\n",
              "        center: [-32.89, 124.1],\n",
              "        zoom: 10,\n",
              "        maxBounds: bounds,\n",
              "        layers: [],\n",
              "        worldCopyJump: false,\n",
              "        crs: L.CRS.EPSG3857,\n",
              "        zoomControl: true,\n",
              "        });\n",
              "\n",
              "\n",
              "    \n",
              "    var tile_layer_75f1271a8b6433ed56b6bbcf89a16cd6 = L.tileLayer(\n",
              "        &#x27;https://{s}.tile.openstreetmap.org/{z}/{x}/{y}.png&#x27;,\n",
              "        {\n",
              "        &quot;attribution&quot;: null,\n",
              "        &quot;detectRetina&quot;: false,\n",
              "        &quot;maxNativeZoom&quot;: 18,\n",
              "        &quot;maxZoom&quot;: 18,\n",
              "        &quot;minZoom&quot;: 0,\n",
              "        &quot;noWrap&quot;: false,\n",
              "        &quot;opacity&quot;: 1,\n",
              "        &quot;subdomains&quot;: &quot;abc&quot;,\n",
              "        &quot;tms&quot;: false\n",
              "}).addTo(map_20359fc56c52f607a231e6e382822b2b);\n",
              "    \n",
              "        var marker_3fcdd1ab1d956a2620c7b238f91160fc = L.marker(\n",
              "            [-32.89, 124.1],\n",
              "            {\n",
              "                icon: new L.Icon.Default(),\n",
              "                }\n",
              "            ).addTo(map_20359fc56c52f607a231e6e382822b2b);\n",
              "        \n",
              "    \n",
              "\n",
              "                var icon_d167161947fd5aba1a7f3cafb8cd1890 = L.AwesomeMarkers.icon({\n",
              "                    icon: &#x27;fire&#x27;,\n",
              "                    iconColor: &#x27;white&#x27;,\n",
              "                    markerColor: &#x27;red&#x27;,\n",
              "                    prefix: &#x27;glyphicon&#x27;,\n",
              "                    extraClasses: &#x27;fa-rotate-0&#x27;\n",
              "                    });\n",
              "                marker_3fcdd1ab1d956a2620c7b238f91160fc.setIcon(icon_d167161947fd5aba1a7f3cafb8cd1890);\n",
              "            \n",
              "    \n",
              "            var popup_ec5f6072267b32ea29938c47798e6a48 = L.popup({maxWidth: &#x27;100%&#x27;\n",
              "            \n",
              "            });\n",
              "\n",
              "            \n",
              "                var html_a33bc590d43acb29538729e7ea303f16 = $(`&lt;div id=&quot;html_a33bc590d43acb29538729e7ea303f16&quot; style=&quot;width: 100.0%; height: 100.0%;&quot;&gt;Highest recorded fire radiation&lt;/div&gt;`)[0];\n",
              "                popup_ec5f6072267b32ea29938c47798e6a48.setContent(html_a33bc590d43acb29538729e7ea303f16);\n",
              "            \n",
              "\n",
              "            marker_3fcdd1ab1d956a2620c7b238f91160fc.bindPopup(popup_ec5f6072267b32ea29938c47798e6a48)\n",
              "            ;\n",
              "\n",
              "            \n",
              "        \n",
              "&lt;/script&gt;\" style=\"position:absolute;width:100%;height:100%;left:0;top:0;border:none !important;\" allowfullscreen webkitallowfullscreen mozallowfullscreen></iframe></div></div>"
            ]
          },
          "metadata": {},
          "execution_count": 108
        }
      ]
    },
    {
      "cell_type": "markdown",
      "source": [
        "**4. Visualization to plot the progress of the fire activity across all points from**\n",
        "Nov 1, 2019, to Jan 31, 2020."
      ],
      "metadata": {
        "id": "hFtbIVsiNksi"
      }
    },
    {
      "cell_type": "markdown",
      "source": [
        "> Read the values from ‘modis_2019_Australia.csv’ and ‘modis_2020_Australia.csv’ files to create a data frame with “acq_date” values parsed as dates. "
      ],
      "metadata": {
        "id": "Ud_P_vINtmUR"
      }
    },
    {
      "cell_type": "code",
      "source": [
        "file2020 = open(\"/modis_2020_Australia.csv\")\n",
        "file2019 = open(\"/modis_2019_Australia.csv\")\n",
        "df_2019_2020 = pnd.concat([pnd.read_csv(file, usecols=[\"acq_date\"], parse_dates=[\"acq_date\"]) for file in [file2019, file2020]])"
      ],
      "metadata": {
        "id": "5OTm0N6atohs"
      },
      "execution_count": null,
      "outputs": []
    },
    {
      "cell_type": "markdown",
      "source": [
        "> Filter the values for dates between ‘2019-11-01’ and ‘2020-01-31’ <a href='https://stackoverflow.com/questions/29370057/select-dataframe-rows-between-two-dates'>[10]</a>. "
      ],
      "metadata": {
        "id": "6ulkLTgptsej"
      }
    },
    {
      "cell_type": "code",
      "source": [
        "mask = (df_2019_2020['acq_date'] >= '2019-11-01') & (df_2019_2020['acq_date'] <= '2020-01-31')\n",
        "df_2019_2020 = df_2019_2020.loc[mask]"
      ],
      "metadata": {
        "id": "VLONHlrmtwU0"
      },
      "execution_count": null,
      "outputs": []
    },
    {
      "cell_type": "markdown",
      "source": [
        "> Find the count of incidents for each date."
      ],
      "metadata": {
        "id": "7TXCwXZ5t34m"
      }
    },
    {
      "cell_type": "code",
      "source": [
        "df_2019_2020 = df_2019_2020.apply(pnd.value_counts)"
      ],
      "metadata": {
        "id": "6kkvp5umt5-g"
      },
      "execution_count": null,
      "outputs": []
    },
    {
      "cell_type": "markdown",
      "source": [
        "> Plot a line chart with dates on the x-axis and the number of incidents or ‘Fire Activity’ on the y-axis for dates from Nov 1, 2019, to Jan 31, 2020."
      ],
      "metadata": {
        "id": "NNX5P5MIt7hs"
      }
    },
    {
      "cell_type": "code",
      "source": [
        "graph = df_2019_2020.plot.line(title='Fire Activity between Nov 1, 2019 and Jan 31, 2020')\n",
        "graph.set_xlabel(\"Date\")\n",
        "graph.set_ylabel(\"Fire Activity\")"
      ],
      "metadata": {
        "id": "vWFV-U3pNqIe",
        "colab": {
          "base_uri": "https://localhost:8080/",
          "height": 318
        },
        "outputId": "56aa7154-5841-4113-f33d-bea2530aff6f"
      },
      "execution_count": null,
      "outputs": [
        {
          "output_type": "execute_result",
          "data": {
            "text/plain": [
              "Text(0, 0.5, 'Fire Activity')"
            ]
          },
          "metadata": {},
          "execution_count": 112
        },
        {
          "output_type": "display_data",
          "data": {
            "text/plain": [
              "<Figure size 432x288 with 1 Axes>"
            ],
            "image/png": "[encoded data removed]"
          },
          "metadata": {
            "needs_background": "light"
          }
        }
      ]
    },
    {
      "cell_type": "markdown",
      "source": [
        "> **Observations** : From the graph, it can be observed that there is a rapid hike in fire activity between Dec 22, 2019, and Jan 03, 2020. The highest number of incidents are also observed in the same range. This rapid increase in the fire activity could also be due to the festival season with Christmas and New Year being celebrated in the observed range. The fire activity drops rapidly post the New Year. "
      ],
      "metadata": {
        "id": "q0h64vlAuAPO"
      }
    },
    {
      "cell_type": "markdown",
      "source": [
        "### 3. Model for spatial prediction of wildfire"
      ],
      "metadata": {
        "id": "9B00MPhTREKO"
      }
    },
    {
      "cell_type": "markdown",
      "source": [
        "**1. In between ‘Brightness temperature I-5’ and ‘Fire Radiative Power’ choose either as the target feature.**"
      ],
      "metadata": {
        "id": "--Fafofdumf9"
      }
    },
    {
      "cell_type": "markdown",
      "source": [
        "> Target feature chosen is - 'Fire Radiative Power' (frp)"
      ],
      "metadata": {
        "id": "j7ix8FB7RJ1t"
      }
    },
    {
      "cell_type": "markdown",
      "source": [
        "**2. Explain what the task you’re solving is (e.g., supervised x unsupervised,\n",
        "classification x regression x clustering or similarity matching x, etc)**\n",
        "> The task that is being solved is Supervised Regression because the target feature that needs to be predicted - 'FRP' is a continuous feature and is a labeled dataset and supervised regression is used to predict continuous values.\n"
      ],
      "metadata": {
        "id": "WPZPeMpYRZ6y"
      }
    },
    {
      "cell_type": "markdown",
      "source": [
        "**3. Use a feature selection method to select the features to build a model.**"
      ],
      "metadata": {
        "id": "vjKHQnepRhll"
      }
    },
    {
      "cell_type": "markdown",
      "source": [
        "\n",
        "\n",
        "*   Feature engineering\n",
        "> We have performed feature engineering to convert categorical features like ‘dayNight’ and ‘Satellite’ into continuous features by doing one-hot encoding. One hot encoding is a process by which categorical variables are converted into a form that could be provided to ML algorithms to do a better job in prediction <a href='https://hackernoon.com/what-is-one-hot-encoding-why-and-when-do-you-have-to-use-it-e3c6186d008f'>[11]</a>. It will assign binary values to ‘dayNight’ and ‘Satellite’ columns.\n",
        "\n",
        "\n"
      ],
      "metadata": {
        "id": "-hyNFNh__Pui"
      }
    },
    {
      "cell_type": "code",
      "source": [
        "df = pnd.get_dummies(df, columns=['satellite'])"
      ],
      "metadata": {
        "id": "4e3phKkX_isq"
      },
      "execution_count": null,
      "outputs": []
    },
    {
      "cell_type": "code",
      "source": [
        "df = pnd.get_dummies(df, columns=['daynight'])"
      ],
      "metadata": {
        "id": "N6oLfWMNRDUi"
      },
      "execution_count": null,
      "outputs": []
    },
    {
      "cell_type": "code",
      "source": [
        "df.head(2)"
      ],
      "metadata": {
        "colab": {
          "base_uri": "https://localhost:8080/",
          "height": 112
        },
        "id": "r1Nfx4F4_615",
        "outputId": "aa2f707d-15f1-49f5-be4b-dc1c932336c0"
      },
      "execution_count": null,
      "outputs": [
        {
          "output_type": "execute_result",
          "data": {
            "text/plain": [
              "   latitude  longitude  brightness  scan  track    acq_date  acq_time  \\\n",
              "0    -23.91     147.30      320.10  1.70   1.30  2017-01-01        47   \n",
              "1    -23.69     150.10      314.30  2.70   1.60  2017-01-01        47   \n",
              "\n",
              "   confidence  bright_t31   frp  type  month  year  satellite_Aqua  \\\n",
              "0          53      296.60 17.60     0      1  2017               0   \n",
              "1          22      289.30 30.00     0      1  2017               0   \n",
              "\n",
              "   satellite_Terra  daynight_D  daynight_N  \n",
              "0                1           1           0  \n",
              "1                1           1           0  "
            ],
            "text/html": [
              "\n",
              "  <div id=\"df-c2427e3c-f2c5-4713-902b-1032d185fb9d\">\n",
              "    <div class=\"colab-df-container\">\n",
              "      <div>\n",
              "<style scoped>\n",
              "    .dataframe tbody tr th:only-of-type {\n",
              "        vertical-align: middle;\n",
              "    }\n",
              "\n",
              "    .dataframe tbody tr th {\n",
              "        vertical-align: top;\n",
              "    }\n",
              "\n",
              "    .dataframe thead th {\n",
              "        text-align: right;\n",
              "    }\n",
              "</style>\n",
              "<table border=\"1\" class=\"dataframe\">\n",
              "  <thead>\n",
              "    <tr style=\"text-align: right;\">\n",
              "      <th></th>\n",
              "      <th>latitude</th>\n",
              "      <th>longitude</th>\n",
              "      <th>brightness</th>\n",
              "      <th>scan</th>\n",
              "      <th>track</th>\n",
              "      <th>acq_date</th>\n",
              "      <th>acq_time</th>\n",
              "      <th>confidence</th>\n",
              "      <th>bright_t31</th>\n",
              "      <th>frp</th>\n",
              "      <th>type</th>\n",
              "      <th>month</th>\n",
              "      <th>year</th>\n",
              "      <th>satellite_Aqua</th>\n",
              "      <th>satellite_Terra</th>\n",
              "      <th>daynight_D</th>\n",
              "      <th>daynight_N</th>\n",
              "    </tr>\n",
              "  </thead>\n",
              "  <tbody>\n",
              "    <tr>\n",
              "      <th>0</th>\n",
              "      <td>-23.91</td>\n",
              "      <td>147.30</td>\n",
              "      <td>320.10</td>\n",
              "      <td>1.70</td>\n",
              "      <td>1.30</td>\n",
              "      <td>2017-01-01</td>\n",
              "      <td>47</td>\n",
              "      <td>53</td>\n",
              "      <td>296.60</td>\n",
              "      <td>17.60</td>\n",
              "      <td>0</td>\n",
              "      <td>1</td>\n",
              "      <td>2017</td>\n",
              "      <td>0</td>\n",
              "      <td>1</td>\n",
              "      <td>1</td>\n",
              "      <td>0</td>\n",
              "    </tr>\n",
              "    <tr>\n",
              "      <th>1</th>\n",
              "      <td>-23.69</td>\n",
              "      <td>150.10</td>\n",
              "      <td>314.30</td>\n",
              "      <td>2.70</td>\n",
              "      <td>1.60</td>\n",
              "      <td>2017-01-01</td>\n",
              "      <td>47</td>\n",
              "      <td>22</td>\n",
              "      <td>289.30</td>\n",
              "      <td>30.00</td>\n",
              "      <td>0</td>\n",
              "      <td>1</td>\n",
              "      <td>2017</td>\n",
              "      <td>0</td>\n",
              "      <td>1</td>\n",
              "      <td>1</td>\n",
              "      <td>0</td>\n",
              "    </tr>\n",
              "  </tbody>\n",
              "</table>\n",
              "</div>\n",
              "      <button class=\"colab-df-convert\" onclick=\"convertToInteractive('df-c2427e3c-f2c5-4713-902b-1032d185fb9d')\"\n",
              "              title=\"Convert this dataframe to an interactive table.\"\n",
              "              style=\"display:none;\">\n",
              "        \n",
              "  <svg xmlns=\"http://www.w3.org/2000/svg\" height=\"24px\"viewBox=\"0 0 24 24\"\n",
              "       width=\"24px\">\n",
              "    <path d=\"M0 0h24v24H0V0z\" fill=\"none\"/>\n",
              "    <path d=\"M18.56 5.44l.94 2.06.94-2.06 2.06-.94-2.06-.94-.94-2.06-.94 2.06-2.06.94zm-11 1L8.5 8.5l.94-2.06 2.06-.94-2.06-.94L8.5 2.5l-.94 2.06-2.06.94zm10 10l.94 2.06.94-2.06 2.06-.94-2.06-.94-.94-2.06-.94 2.06-2.06.94z\"/><path d=\"M17.41 7.96l-1.37-1.37c-.4-.4-.92-.59-1.43-.59-.52 0-1.04.2-1.43.59L10.3 9.45l-7.72 7.72c-.78.78-.78 2.05 0 2.83L4 21.41c.39.39.9.59 1.41.59.51 0 1.02-.2 1.41-.59l7.78-7.78 2.81-2.81c.8-.78.8-2.07 0-2.86zM5.41 20L4 18.59l7.72-7.72 1.47 1.35L5.41 20z\"/>\n",
              "  </svg>\n",
              "      </button>\n",
              "      \n",
              "  <style>\n",
              "    .colab-df-container {\n",
              "      display:flex;\n",
              "      flex-wrap:wrap;\n",
              "      gap: 12px;\n",
              "    }\n",
              "\n",
              "    .colab-df-convert {\n",
              "      background-color: #E8F0FE;\n",
              "      border: none;\n",
              "      border-radius: 50%;\n",
              "      cursor: pointer;\n",
              "      display: none;\n",
              "      fill: #1967D2;\n",
              "      height: 32px;\n",
              "      padding: 0 0 0 0;\n",
              "      width: 32px;\n",
              "    }\n",
              "\n",
              "    .colab-df-convert:hover {\n",
              "      background-color: #E2EBFA;\n",
              "      box-shadow: 0px 1px 2px rgba(60, 64, 67, 0.3), 0px 1px 3px 1px rgba(60, 64, 67, 0.15);\n",
              "      fill: #174EA6;\n",
              "    }\n",
              "\n",
              "    [theme=dark] .colab-df-convert {\n",
              "      background-color: #3B4455;\n",
              "      fill: #D2E3FC;\n",
              "    }\n",
              "\n",
              "    [theme=dark] .colab-df-convert:hover {\n",
              "      background-color: #434B5C;\n",
              "      box-shadow: 0px 1px 3px 1px rgba(0, 0, 0, 0.15);\n",
              "      filter: drop-shadow(0px 1px 2px rgba(0, 0, 0, 0.3));\n",
              "      fill: #FFFFFF;\n",
              "    }\n",
              "  </style>\n",
              "\n",
              "      <script>\n",
              "        const buttonEl =\n",
              "          document.querySelector('#df-c2427e3c-f2c5-4713-902b-1032d185fb9d button.colab-df-convert');\n",
              "        buttonEl.style.display =\n",
              "          google.colab.kernel.accessAllowed ? 'block' : 'none';\n",
              "\n",
              "        async function convertToInteractive(key) {\n",
              "          const element = document.querySelector('#df-c2427e3c-f2c5-4713-902b-1032d185fb9d');\n",
              "          const dataTable =\n",
              "            await google.colab.kernel.invokeFunction('convertToInteractive',\n",
              "                                                     [key], {});\n",
              "          if (!dataTable) return;\n",
              "\n",
              "          const docLinkHtml = 'Like what you see? Visit the ' +\n",
              "            '<a target=\"_blank\" href=https://colab.research.google.com/notebooks/data_table.ipynb>data table notebook</a>'\n",
              "            + ' to learn more about interactive tables.';\n",
              "          element.innerHTML = '';\n",
              "          dataTable['output_type'] = 'display_data';\n",
              "          await google.colab.output.renderOutput(dataTable, element);\n",
              "          const docLink = document.createElement('div');\n",
              "          docLink.innerHTML = docLinkHtml;\n",
              "          element.appendChild(docLink);\n",
              "        }\n",
              "      </script>\n",
              "    </div>\n",
              "  </div>\n",
              "  "
            ]
          },
          "metadata": {},
          "execution_count": 14
        }
      ]
    },
    {
      "cell_type": "markdown",
      "source": [
        "* Correlation Method\n",
        "> We have then applied the correlation method to select the features. It is important to identify the degree to which variables in the dataset are dependent. The correlation is the statistical summary of the relationship between variables <a href='https://machinelearningmastery.com/how-to-use-correlation-to-understand-the-relationship-between-variables/'>[12]</a> and it will help us identify the features that are highly correlated with the target feature ‘FRP’.\n"
      ],
      "metadata": {
        "id": "esGOyWJiI5sb"
      }
    },
    {
      "cell_type": "code",
      "source": [
        "df_test = df"
      ],
      "metadata": {
        "id": "VRF7OTvPI-bF"
      },
      "execution_count": null,
      "outputs": []
    },
    {
      "cell_type": "code",
      "source": [
        "cor=df_test.corr()"
      ],
      "metadata": {
        "id": "8GnFBfEYJBmO"
      },
      "execution_count": null,
      "outputs": []
    },
    {
      "cell_type": "code",
      "source": [
        "cor_target=abs(cor[\"frp\"])"
      ],
      "metadata": {
        "id": "31v94U70JIdH"
      },
      "execution_count": null,
      "outputs": []
    },
    {
      "cell_type": "code",
      "source": [
        "#Selecting highly correlated features\n",
        "features = cor_target[cor_target>0.2]\n",
        "features"
      ],
      "metadata": {
        "colab": {
          "base_uri": "https://localhost:8080/"
        },
        "id": "3maxcX4gJPYg",
        "outputId": "62e1f220-b3ee-4131-ec36-ecde6aeec438"
      },
      "execution_count": null,
      "outputs": [
        {
          "output_type": "execute_result",
          "data": {
            "text/plain": [
              "brightness   0.64\n",
              "scan         0.24\n",
              "track        0.23\n",
              "confidence   0.30\n",
              "bright_t31   0.30\n",
              "frp          1.00\n",
              "Name: frp, dtype: float64"
            ]
          },
          "metadata": {},
          "execution_count": 18
        }
      ]
    },
    {
      "cell_type": "markdown",
      "source": [
        "> In order to decide are correlated features, we have set the threshold to 0.2, and the following features were found to be correlated:\n",
        "* brightness\n",
        "* scan\n",
        "* track\n",
        "* confidence\n",
        "* bright_t31\n",
        "* frp"
      ],
      "metadata": {
        "id": "IsaEEMOevoIf"
      }
    },
    {
      "cell_type": "markdown",
      "source": [
        "**4. Select one or more evaluation metrics.**"
      ],
      "metadata": {
        "id": "tAY-XtOevvBo"
      }
    },
    {
      "cell_type": "markdown",
      "source": [
        "> We have selected the following three evaluation metrics:\n",
        "* Root Mean Squared Error (RMSE)\n",
        "* Mean Absolute Error (MAE)\n",
        "* R-Squared\n",
        "\n",
        "> **Root Mean Squared Error (RMSE)**: “Mean Squared Error” finds the average squared error between the actual and predicted values. Root mean squared error (RMSE) is the square root of the mean of the square of all of the errors  <a href='https://www.sciencedirect.com/topics/engineering/root-mean-squared-error'>[13]</a>. Since the errors are squared before they are averaged, the RMSE gives relatively high weight to large errors.\n",
        "RMSE will be a suitable evaluation metric since its squared nature will help in delivering more robust results by canceling the positive and negative error values <a href='https://www.analyticsvidhya.com/blog/2019/08/11-important-model-evaluation-error-metrics/'>[14]</a>. Using it we will be able to avoid the absolute error values while doing the mathematical calculation.\n",
        "\n",
        "> **Mean Absolute Error (MAE)**: MAE will find the average absolute distance between the predicted and target values <a href='https://en.wikipedia.org/wiki/Mean_absolute_error'>[15]</a>. MAE will measure the average magnitude of the errors in our training and test datasets. \n",
        "MAE will be a suitable evaluation metric as it will average the absolute differences between actual and predicted observations.\n",
        "\n",
        "> **R-Squared**: R-Squared defines how well the data fit in our model. Using the R-Squared values, it can be determined whether the model is over-fit or under-fit [10]. The value of R-Squared should be between zero and one and the closer it is to one, the better the model is. \n",
        "R-Squared will be a suitable evaluation for checking whether our model is over or under fit."
      ],
      "metadata": {
        "id": "jNvwwTAEv1ge"
      }
    },
    {
      "cell_type": "markdown",
      "source": [
        "**Sampling of dataset**\n"
      ],
      "metadata": {
        "id": "D-LqwybjajXW"
      }
    },
    {
      "cell_type": "markdown",
      "source": [
        "\n",
        "\n",
        "\n",
        "> * Performed sampling on the dataset as the dataset was too large.\n",
        "> * Took 40000 values from each year and then shuffled them so that when splitting the training and test dataset has a mix of all the years.\n",
        "\n",
        "\n",
        "\n"
      ],
      "metadata": {
        "id": "ltfQOJR64XTQ"
      }
    },
    {
      "cell_type": "code",
      "source": [
        "df_test = df_test[['bright_t31','brightness','scan','track','confidence','frp','year','month']]"
      ],
      "metadata": {
        "id": "V18mnhWVdg8a"
      },
      "execution_count": null,
      "outputs": []
    },
    {
      "cell_type": "code",
      "source": [
        "df_test.groupby('year', group_keys=False).apply(lambda x: x.sample(40000)).reset_index().head(2)"
      ],
      "metadata": {
        "colab": {
          "base_uri": "https://localhost:8080/",
          "height": 112
        },
        "id": "GI8qOrk2akqt",
        "outputId": "e4532da5-58ac-4129-d195-7d2d4bf58428"
      },
      "execution_count": null,
      "outputs": [
        {
          "output_type": "execute_result",
          "data": {
            "text/plain": [
              "    index  bright_t31  brightness  scan  track  confidence   frp  year  month\n",
              "0  150419      296.10      312.70  1.00   1.00          83 10.20  2017      9\n",
              "1  106769      301.30      316.00  4.40   1.90          67 69.00  2017      8"
            ],
            "text/html": [
              "\n",
              "  <div id=\"df-91025426-83ac-4334-bd5c-323414bc5740\">\n",
              "    <div class=\"colab-df-container\">\n",
              "      <div>\n",
              "<style scoped>\n",
              "    .dataframe tbody tr th:only-of-type {\n",
              "        vertical-align: middle;\n",
              "    }\n",
              "\n",
              "    .dataframe tbody tr th {\n",
              "        vertical-align: top;\n",
              "    }\n",
              "\n",
              "    .dataframe thead th {\n",
              "        text-align: right;\n",
              "    }\n",
              "</style>\n",
              "<table border=\"1\" class=\"dataframe\">\n",
              "  <thead>\n",
              "    <tr style=\"text-align: right;\">\n",
              "      <th></th>\n",
              "      <th>index</th>\n",
              "      <th>bright_t31</th>\n",
              "      <th>brightness</th>\n",
              "      <th>scan</th>\n",
              "      <th>track</th>\n",
              "      <th>confidence</th>\n",
              "      <th>frp</th>\n",
              "      <th>year</th>\n",
              "      <th>month</th>\n",
              "    </tr>\n",
              "  </thead>\n",
              "  <tbody>\n",
              "    <tr>\n",
              "      <th>0</th>\n",
              "      <td>150419</td>\n",
              "      <td>296.10</td>\n",
              "      <td>312.70</td>\n",
              "      <td>1.00</td>\n",
              "      <td>1.00</td>\n",
              "      <td>83</td>\n",
              "      <td>10.20</td>\n",
              "      <td>2017</td>\n",
              "      <td>9</td>\n",
              "    </tr>\n",
              "    <tr>\n",
              "      <th>1</th>\n",
              "      <td>106769</td>\n",
              "      <td>301.30</td>\n",
              "      <td>316.00</td>\n",
              "      <td>4.40</td>\n",
              "      <td>1.90</td>\n",
              "      <td>67</td>\n",
              "      <td>69.00</td>\n",
              "      <td>2017</td>\n",
              "      <td>8</td>\n",
              "    </tr>\n",
              "  </tbody>\n",
              "</table>\n",
              "</div>\n",
              "      <button class=\"colab-df-convert\" onclick=\"convertToInteractive('df-91025426-83ac-4334-bd5c-323414bc5740')\"\n",
              "              title=\"Convert this dataframe to an interactive table.\"\n",
              "              style=\"display:none;\">\n",
              "        \n",
              "  <svg xmlns=\"http://www.w3.org/2000/svg\" height=\"24px\"viewBox=\"0 0 24 24\"\n",
              "       width=\"24px\">\n",
              "    <path d=\"M0 0h24v24H0V0z\" fill=\"none\"/>\n",
              "    <path d=\"M18.56 5.44l.94 2.06.94-2.06 2.06-.94-2.06-.94-.94-2.06-.94 2.06-2.06.94zm-11 1L8.5 8.5l.94-2.06 2.06-.94-2.06-.94L8.5 2.5l-.94 2.06-2.06.94zm10 10l.94 2.06.94-2.06 2.06-.94-2.06-.94-.94-2.06-.94 2.06-2.06.94z\"/><path d=\"M17.41 7.96l-1.37-1.37c-.4-.4-.92-.59-1.43-.59-.52 0-1.04.2-1.43.59L10.3 9.45l-7.72 7.72c-.78.78-.78 2.05 0 2.83L4 21.41c.39.39.9.59 1.41.59.51 0 1.02-.2 1.41-.59l7.78-7.78 2.81-2.81c.8-.78.8-2.07 0-2.86zM5.41 20L4 18.59l7.72-7.72 1.47 1.35L5.41 20z\"/>\n",
              "  </svg>\n",
              "      </button>\n",
              "      \n",
              "  <style>\n",
              "    .colab-df-container {\n",
              "      display:flex;\n",
              "      flex-wrap:wrap;\n",
              "      gap: 12px;\n",
              "    }\n",
              "\n",
              "    .colab-df-convert {\n",
              "      background-color: #E8F0FE;\n",
              "      border: none;\n",
              "      border-radius: 50%;\n",
              "      cursor: pointer;\n",
              "      display: none;\n",
              "      fill: #1967D2;\n",
              "      height: 32px;\n",
              "      padding: 0 0 0 0;\n",
              "      width: 32px;\n",
              "    }\n",
              "\n",
              "    .colab-df-convert:hover {\n",
              "      background-color: #E2EBFA;\n",
              "      box-shadow: 0px 1px 2px rgba(60, 64, 67, 0.3), 0px 1px 3px 1px rgba(60, 64, 67, 0.15);\n",
              "      fill: #174EA6;\n",
              "    }\n",
              "\n",
              "    [theme=dark] .colab-df-convert {\n",
              "      background-color: #3B4455;\n",
              "      fill: #D2E3FC;\n",
              "    }\n",
              "\n",
              "    [theme=dark] .colab-df-convert:hover {\n",
              "      background-color: #434B5C;\n",
              "      box-shadow: 0px 1px 3px 1px rgba(0, 0, 0, 0.15);\n",
              "      filter: drop-shadow(0px 1px 2px rgba(0, 0, 0, 0.3));\n",
              "      fill: #FFFFFF;\n",
              "    }\n",
              "  </style>\n",
              "\n",
              "      <script>\n",
              "        const buttonEl =\n",
              "          document.querySelector('#df-91025426-83ac-4334-bd5c-323414bc5740 button.colab-df-convert');\n",
              "        buttonEl.style.display =\n",
              "          google.colab.kernel.accessAllowed ? 'block' : 'none';\n",
              "\n",
              "        async function convertToInteractive(key) {\n",
              "          const element = document.querySelector('#df-91025426-83ac-4334-bd5c-323414bc5740');\n",
              "          const dataTable =\n",
              "            await google.colab.kernel.invokeFunction('convertToInteractive',\n",
              "                                                     [key], {});\n",
              "          if (!dataTable) return;\n",
              "\n",
              "          const docLinkHtml = 'Like what you see? Visit the ' +\n",
              "            '<a target=\"_blank\" href=https://colab.research.google.com/notebooks/data_table.ipynb>data table notebook</a>'\n",
              "            + ' to learn more about interactive tables.';\n",
              "          element.innerHTML = '';\n",
              "          dataTable['output_type'] = 'display_data';\n",
              "          await google.colab.output.renderOutput(dataTable, element);\n",
              "          const docLink = document.createElement('div');\n",
              "          docLink.innerHTML = docLinkHtml;\n",
              "          element.appendChild(docLink);\n",
              "        }\n",
              "      </script>\n",
              "    </div>\n",
              "  </div>\n",
              "  "
            ]
          },
          "metadata": {},
          "execution_count": 20
        }
      ]
    },
    {
      "cell_type": "code",
      "source": [
        "\n",
        "df_test=shuffle(df_test)"
      ],
      "metadata": {
        "id": "EO-YoOgQazv-"
      },
      "execution_count": null,
      "outputs": []
    },
    {
      "cell_type": "code",
      "source": [
        "# Create separate object for target variable\n",
        "y = df_test[['frp']]\n",
        "# Create separate object for input features\n",
        "X = df_test.drop('frp', axis=1)"
      ],
      "metadata": {
        "id": "IS3IuT9zbmeg"
      },
      "execution_count": null,
      "outputs": []
    },
    {
      "cell_type": "code",
      "source": [
        "# Split X and y into train and test sets: 80-20\n",
        "X_train, X_test, y_train, y_test = train_test_split(X, y, test_size=0.2, random_state=1234)"
      ],
      "metadata": {
        "id": "bRrnH3dmbu-_"
      },
      "execution_count": null,
      "outputs": []
    },
    {
      "cell_type": "markdown",
      "source": [
        "**5.  Build a baseline model** "
      ],
      "metadata": {
        "id": "UP_iSPzgwLhn"
      }
    },
    {
      "cell_type": "markdown",
      "source": [
        "> **Linear Regression**\n",
        "\n",
        "> We have selected Linear Regression as our baseline model. \n",
        "Linear Regression models the relationship between two variables by fitting a linear equation to observed data [38]. In linear regression, the predicted output is continuous with a constant slope. \n",
        "We have not performed hyperparameter tuning in this model because it is a basic regression model. The more suitable models to apply hyperparameter tuning would be the Ridge Regression model or the Lasso Regression model. "
      ],
      "metadata": {
        "id": "sVsCx7r-j03q"
      }
    },
    {
      "cell_type": "markdown",
      "source": [
        "> 2. Train and evaluate your model"
      ],
      "metadata": {
        "id": "ib8iizXawg_D"
      }
    },
    {
      "cell_type": "code",
      "source": [
        "regr = linear_model.LinearRegression()\n",
        "regr.fit(X_train, y_train)"
      ],
      "metadata": {
        "colab": {
          "base_uri": "https://localhost:8080/"
        },
        "id": "3gMxKtzBj2O9",
        "outputId": "72d35049-888e-4ebe-c5d0-7821a5182df7"
      },
      "execution_count": null,
      "outputs": [
        {
          "output_type": "execute_result",
          "data": {
            "text/plain": [
              "LinearRegression()"
            ]
          },
          "metadata": {},
          "execution_count": 110
        }
      ]
    },
    {
      "cell_type": "code",
      "source": [
        "y_train_pred=regr.predict(X_train)"
      ],
      "metadata": {
        "id": "xEX7CcLKkD1e"
      },
      "execution_count": null,
      "outputs": []
    },
    {
      "cell_type": "code",
      "source": [
        "y_pred=regr.predict(X_test)"
      ],
      "metadata": {
        "id": "lfK5-APvkP0G"
      },
      "execution_count": null,
      "outputs": []
    },
    {
      "cell_type": "code",
      "source": [
        "print(\"Train Results for Linear Regression:\")\n",
        "print(\"Root mean squared error: \", sqrt(mse(y_train.values, y_train_pred)))\n",
        "print(\"R-squared: \", rs(y_train.values, y_train_pred))\n",
        "print(\"Mean Absolute Error: \", mae(y_train.values, y_train_pred))"
      ],
      "metadata": {
        "colab": {
          "base_uri": "https://localhost:8080/"
        },
        "id": "MboVkKulkeSs",
        "outputId": "a4b1d868-d3e7-493d-99a9-a2c16b4f872f"
      },
      "execution_count": null,
      "outputs": [
        {
          "output_type": "stream",
          "name": "stdout",
          "text": [
            "Train Results for Linear Regression:\n",
            "Root mean squared error:  117.14417339370637\n",
            "R-squared:  0.5269835762705177\n",
            "Mean Absolute Error:  52.13800544653744\n"
          ]
        }
      ]
    },
    {
      "cell_type": "code",
      "source": [
        "print(\"Test Results for Linear Regression:\")\n",
        "print(\"Root mean squared error: \", sqrt(mse(y_test, y_pred)))\n",
        "print(\"R-squared: \", rs(y_test, y_pred))\n",
        "print(\"Mean Absolute Error: \", mae(y_test, y_pred))"
      ],
      "metadata": {
        "colab": {
          "base_uri": "https://localhost:8080/"
        },
        "id": "Nm2mK9CdVRvB",
        "outputId": "aba00e6b-6865-4095-aadc-e3b7f0a7ea58"
      },
      "execution_count": null,
      "outputs": [
        {
          "output_type": "stream",
          "name": "stdout",
          "text": [
            "Test Results for Linear Regression:\n",
            "Root mean squared error:  113.18889805996959\n",
            "R-squared:  0.5349872343721219\n",
            "Mean Absolute Error:  51.92028023653353\n"
          ]
        }
      ]
    },
    {
      "cell_type": "markdown",
      "source": [
        "> 3. How do you make sure not to overfit?\n",
        "\n",
        "> We have calculated the R-Squared value of the model which is 0.527 and 0.531 for training and test results respectively. Since both the values are between zero and one, the model is not overfitting."
      ],
      "metadata": {
        "id": "9AacJEsYwlaq"
      }
    },
    {
      "cell_type": "markdown",
      "source": [
        "> 4. Visualize the learning process and/or the knowledge acquired by your model.\n",
        "\n",
        "> The learning curve <a href='https://utkuufuk.com/2018/05/04/learning-curves/'>[16]</a> is the correct visualization for the linear regression because it shows how the model accuracy is changing with respect to the number of training and testing datasets. It also helps us in identifying the overfitting and underfitting of the data."
      ],
      "metadata": {
        "id": "XWu7soaRjaGt"
      }
    },
    {
      "cell_type": "code",
      "source": [
        "plt.title(\"Learning Curves for Linear Regression\", fontsize=16)\n",
        "train_sizes, train_score, test_score, fit_times, _ = learning_curve(regr, X_train, y_train,cv=3, return_times=True)\n",
        "plt.xlabel(\"Training Data size\")\n",
        "plt.ylabel(\"Model accuracy\")\n",
        "plt.plot(train_sizes,np.mean(train_score,axis=1), label = 'Training Accuracy')\n",
        "plt.plot(train_sizes, np.mean(test_score, axis=1),label = 'Validation Accuracy')\n",
        "plt.legend(loc='upper right')"
      ],
      "metadata": {
        "colab": {
          "base_uri": "https://localhost:8080/",
          "height": 314
        },
        "id": "Ra7fS9E1jNHn",
        "outputId": "362c30b9-bff3-4bc0-b7f8-82e3bc109ec3"
      },
      "execution_count": null,
      "outputs": [
        {
          "output_type": "execute_result",
          "data": {
            "text/plain": [
              "<matplotlib.legend.Legend at 0x7f5863ca7810>"
            ]
          },
          "metadata": {},
          "execution_count": 29
        },
        {
          "output_type": "display_data",
          "data": {
            "text/plain": [
              "<Figure size 432x288 with 1 Axes>"
            ],
            "image/png": "[encoded data removed]"
          },
          "metadata": {
            "needs_background": "light"
          }
        }
      ]
    },
    {
      "cell_type": "markdown",
      "source": [
        "> **Observations**: The model accuracy has varied between 0.526 to 0.536 for the training dataset whereas, for the test dataset, it stays consistent throughout. "
      ],
      "metadata": {
        "id": "FSUk71ckxLrV"
      }
    },
    {
      "cell_type": "markdown",
      "source": [
        "> 5. Analyze the results\n",
        "\n",
        "> Train Results for Linear Regression:\n",
        "\n",
        "> * Root mean squared error:  117.14417339370637\n",
        "> * R-squared:  0.5269835762705177\n",
        "> * Mean Absolute Error:  52.13800544653744\n",
        "\n",
        "> Test Results for Linear Regression:\n",
        "\n",
        "> * Root mean squared error:  113.18889805996959\n",
        "> * R-squared:  0.5349872343721219\n",
        "> * Mean Absolute Error:  51.92028023653353\n",
        "\n",
        "> The Root mean squared error and Mean Absolute Error of this model are quite high. Even though the value of R-squared is between zero and one, it is not towards one and hence the model is not very fit."
      ],
      "metadata": {
        "id": "vqyM2ub5yjmT"
      }
    },
    {
      "cell_type": "markdown",
      "source": [
        "**6. Build a candidate final model**"
      ],
      "metadata": {
        "id": "8-WioKexzaFn"
      }
    },
    {
      "cell_type": "markdown",
      "source": [
        "> **Decision Tree Regression**"
      ],
      "metadata": {
        "id": "xpK9dhTjnQzV"
      }
    },
    {
      "cell_type": "markdown",
      "source": [
        "> We have selected the Decision Tree Regression as our final candidate model.\n",
        "\n",
        "> The decision tree builds regression models in the form of a tree structure. It breaks down the dataset into smaller and smaller subsets while at the same time an associated decision tree is incrementally developed <a href='https://www.saedsayad.com/decision_tree_reg.htm#:~:text=Decision tree builds regression or,decision nodes and leaf nodes.'>[17]</a>. The result is a tree with decision and leaf nodes."
      ],
      "metadata": {
        "id": "TpOtVmnozgrt"
      }
    },
    {
      "cell_type": "markdown",
      "source": [
        "**1. Perform hyperparameter tuning if applicable.**\n",
        "> We are first running the model with a set of possible hyperparameter values and then using the best estimator method, we identify the best values for tuned params. "
      ],
      "metadata": {
        "id": "8SabfFdeLp2v"
      }
    },
    {
      "cell_type": "code",
      "source": [
        "# Code Reference: https://scikit-learn.org/stable/modules/generated/sklearn.model_selection.RandomizedSearchCV.html [18]\n",
        "params_tuned = {'min_samples_split': [2, 3, 4, 5, 7], 'min_samples_leaf': [1, 2, 3, 4, 6], 'max_depth': [2, 3, 4, 5, 6, 7]}\n",
        "model = RandomizedSearchCV(DecisionTreeRegressor(), params_tuned, n_iter=20, scoring = 'neg_mean_absolute_error', cv=10, n_jobs=-1)\n",
        "model.fit(X_train, y_train)"
      ],
      "metadata": {
        "colab": {
          "base_uri": "https://localhost:8080/"
        },
        "id": "asF0TC0_-Wbd",
        "outputId": "5daa1bdf-5e1c-4128-b809-3611913637ab"
      },
      "execution_count": null,
      "outputs": [
        {
          "output_type": "execute_result",
          "data": {
            "text/plain": [
              "RandomizedSearchCV(cv=10, estimator=DecisionTreeRegressor(), n_iter=20,\n",
              "                   n_jobs=-1,\n",
              "                   param_distributions={'max_depth': [2, 3, 4, 5, 6, 7],\n",
              "                                        'min_samples_leaf': [1, 2, 3, 4, 6],\n",
              "                                        'min_samples_split': [2, 3, 4, 5, 7]},\n",
              "                   scoring='neg_mean_absolute_error')"
            ]
          },
          "metadata": {},
          "execution_count": 93
        }
      ]
    },
    {
      "cell_type": "code",
      "source": [
        "model.best_estimator_"
      ],
      "metadata": {
        "colab": {
          "base_uri": "https://localhost:8080/"
        },
        "id": "5kekog-VB-my",
        "outputId": "2888d90a-6e1f-47b5-887b-0f6474161795"
      },
      "execution_count": null,
      "outputs": [
        {
          "output_type": "execute_result",
          "data": {
            "text/plain": [
              "DecisionTreeRegressor(max_depth=7, min_samples_leaf=6, min_samples_split=7)"
            ]
          },
          "metadata": {},
          "execution_count": 94
        }
      ]
    },
    {
      "cell_type": "markdown",
      "source": [
        "**2. Train and evaluate your model**\n",
        "\n",
        "> The model is rerun with hyperparameter tuning."
      ],
      "metadata": {
        "id": "ozBzubFRPJn7"
      }
    },
    {
      "cell_type": "code",
      "source": [
        "params_tuned = {'min_samples_split': [5], 'min_samples_leaf': [3], 'max_depth': [7]}\n",
        "bestEstimator_model = RandomizedSearchCV(DecisionTreeRegressor(), params_tuned, n_iter=20, scoring = 'neg_mean_absolute_error', cv=10, n_jobs=-1)\n",
        "bestEstimator_model.fit(X_train, y_train)"
      ],
      "metadata": {
        "colab": {
          "base_uri": "https://localhost:8080/"
        },
        "id": "YlEgqJofBZu7",
        "outputId": "afd71742-bce5-48c5-c7de-53486ba71e37"
      },
      "execution_count": null,
      "outputs": [
        {
          "output_type": "execute_result",
          "data": {
            "text/plain": [
              "RandomizedSearchCV(cv=10, estimator=DecisionTreeRegressor(), n_iter=20,\n",
              "                   n_jobs=-1,\n",
              "                   param_distributions={'max_depth': [7],\n",
              "                                        'min_samples_leaf': [3],\n",
              "                                        'min_samples_split': [5]},\n",
              "                   scoring='neg_mean_absolute_error')"
            ]
          },
          "metadata": {},
          "execution_count": 95
        }
      ]
    },
    {
      "cell_type": "code",
      "source": [
        "y_train_pred=bestEstimator_model.predict(X_train)"
      ],
      "metadata": {
        "id": "A1_YqksHFHOd"
      },
      "execution_count": null,
      "outputs": []
    },
    {
      "cell_type": "code",
      "source": [
        "y_pred=bestEstimator_model.predict(X_test)"
      ],
      "metadata": {
        "id": "u3Q0ATIpFHyp"
      },
      "execution_count": null,
      "outputs": []
    },
    {
      "cell_type": "markdown",
      "source": [
        "**3. How do you make sure not to overfit?**\n"
      ],
      "metadata": {
        "id": "adUwlmVXPV-1"
      }
    },
    {
      "cell_type": "code",
      "source": [
        "print(\"Train Results for Decision Tree Regression:\")\n",
        "print(\"Root mean squared error: \", sqrt(mse(y_train.values, y_train_pred)))\n",
        "print(\"R-squared: \", rs(y_train.values, y_train_pred))\n",
        "print(\"Mean Absolute Error: \", mae(y_train.values, y_train_pred))"
      ],
      "metadata": {
        "id": "3WlvMkjMFKJK",
        "colab": {
          "base_uri": "https://localhost:8080/"
        },
        "outputId": "f4cb5437-66ff-485c-f8b4-64c32375d9fb"
      },
      "execution_count": null,
      "outputs": [
        {
          "output_type": "stream",
          "name": "stdout",
          "text": [
            "Train Results for Decision Tree Regression:\n",
            "Root mean squared error:  39.560158697574686\n",
            "R-squared:  0.9460550386715796\n",
            "Mean Absolute Error:  13.450607451384737\n"
          ]
        }
      ]
    },
    {
      "cell_type": "code",
      "source": [
        "print(\"Test Results for Decision Tree Regression:\")\n",
        "print(\"Root mean squared error: \", sqrt(mse(y_test, y_pred)))\n",
        "print(\"R-squared: \", rs(y_test, y_pred))\n",
        "print(\"Mean Absolute Error: \", mae(y_test, y_pred))"
      ],
      "metadata": {
        "id": "l3kAg596FMRF",
        "colab": {
          "base_uri": "https://localhost:8080/"
        },
        "outputId": "84c8d392-4dfb-4a59-db7a-d0424724e0d0"
      },
      "execution_count": null,
      "outputs": [
        {
          "output_type": "stream",
          "name": "stdout",
          "text": [
            "Test Results for Decision Tree Regression:\n",
            "Root mean squared error:  40.477817598771885\n",
            "R-squared:  0.9405308967538255\n",
            "Mean Absolute Error:  13.566913817320783\n"
          ]
        }
      ]
    },
    {
      "cell_type": "markdown",
      "source": [
        "> We have calculated the R-Squared value of the model which is 0.946 and 0.940 for training and test results respectively. Since both the values are between zero and one, the model is not overfitting."
      ],
      "metadata": {
        "id": "GA4mTuRTPuuE"
      }
    },
    {
      "cell_type": "markdown",
      "source": [
        "**4. Visualize the learning process and/or the knowledge acquired by your\n",
        "model**\n",
        "> In order to check the knowledge acquired by our model, we are performing a feature importance test on the model which gives us the features on which our target feature FRP is most dependent."
      ],
      "metadata": {
        "id": "jaDTwGQxP3Up"
      }
    },
    {
      "cell_type": "code",
      "source": [
        "bestEstimator_model.best_estimator_.feature_importances_"
      ],
      "metadata": {
        "id": "wWdNAbvOFD7w",
        "colab": {
          "base_uri": "https://localhost:8080/"
        },
        "outputId": "215588b5-b6ea-41ec-d9e5-6a8bbe473e55"
      },
      "execution_count": null,
      "outputs": [
        {
          "output_type": "execute_result",
          "data": {
            "text/plain": [
              "array([0.00079328, 0.67456436, 0.30337725, 0.01358118, 0.00592185,\n",
              "       0.00176208, 0.        ])"
            ]
          },
          "metadata": {},
          "execution_count": 101
        }
      ]
    },
    {
      "cell_type": "code",
      "source": [
        "plt.barh(X_train.columns,bestEstimator_model.best_estimator_.feature_importances_)"
      ],
      "metadata": {
        "id": "Ii_cTT4-Ue3u",
        "colab": {
          "base_uri": "https://localhost:8080/",
          "height": 282
        },
        "outputId": "5f9b461e-00b8-4e2f-a8f6-a85db7158155"
      },
      "execution_count": null,
      "outputs": [
        {
          "output_type": "execute_result",
          "data": {
            "text/plain": [
              "<BarContainer object of 7 artists>"
            ]
          },
          "metadata": {},
          "execution_count": 102
        },
        {
          "output_type": "display_data",
          "data": {
            "text/plain": [
              "<Figure size 432x288 with 1 Axes>"
            ],
            "image/png": "[encoded data removed]"
          },
          "metadata": {
            "needs_background": "light"
          }
        }
      ]
    },
    {
      "cell_type": "markdown",
      "source": [
        "**5. Analyze the results**\n",
        "\n",
        "> Train Results for Decision Tree Regression:\n",
        "\n",
        "> * Root mean squared error:  39.560158697574686\n",
        "> * R-squared:  0.9460550386715796\n",
        "> * Mean Absolute Error:  13.450607451384737\n",
        "\n",
        "> Test Results for Decision Tree Regression:\n",
        "\n",
        "> * Root mean squared error:  40.477817598771885\n",
        "> * R-squared:  0.9405308967538255\n",
        "> * Mean Absolute Error:  13.566913817320783\n",
        "\n",
        "> The Root mean squared error and Mean Absolute Error of this model are lower than that of our baseline model. The R-squared value is closer to one and hence the model is in appropriate fit."
      ],
      "metadata": {
        "id": "Ot3mAEm6P_S0"
      }
    },
    {
      "cell_type": "markdown",
      "source": [
        "7. Statistical Significance Test"
      ],
      "metadata": {
        "id": "4KFZIgqPajSU"
      }
    },
    {
      "cell_type": "markdown",
      "source": [
        "> * Performed a paired t-test on both the models for comparing them.\n",
        "> * Comparison is done on the basis of p value evaluated"
      ],
      "metadata": {
        "id": "k8K6TvXs5GwO"
      }
    },
    {
      "cell_type": "code",
      "source": [
        "# Code Reference: http://rasbt.github.io/mlxtend/user_guide/evaluate/paired_ttest_resampled/ [19]\n",
        "t,p = paired_ttest_5x2cv(estimator1=regr,estimator2=bestEstimator_model, X=X, y=y, random_seed = 1)\n",
        "print('t statistic: %.3f' % t)\n",
        "print('p value: %.3f' % p)"
      ],
      "metadata": {
        "id": "AB45ljb3amFS",
        "colab": {
          "base_uri": "https://localhost:8080/"
        },
        "outputId": "912b9626-10b5-4781-ccd4-909bd6c83728"
      },
      "execution_count": null,
      "outputs": [
        {
          "output_type": "stream",
          "name": "stdout",
          "text": [
            "t statistic: -52.492\n",
            "p value: 0.000\n"
          ]
        }
      ]
    },
    {
      "cell_type": "markdown",
      "source": [
        "> * Since the value of p is less than 0.05, the models are different from each other"
      ],
      "metadata": {
        "id": "I9sEFZWn5RkN"
      }
    },
    {
      "cell_type": "markdown",
      "source": [
        "> * Calculating the score of each model and then plotting a box plot between them"
      ],
      "metadata": {
        "id": "3OQtTwOb5act"
      }
    },
    {
      "cell_type": "code",
      "source": [
        "score_regr = regr.fit(X_train, y_train).score(X_test, y_test)\n",
        "score_model = bestEstimator_model.fit(X_train, y_train).score(X_test, y_test)"
      ],
      "metadata": {
        "id": "npV32jZBGM0x"
      },
      "execution_count": null,
      "outputs": []
    },
    {
      "cell_type": "code",
      "source": [
        "from matplotlib import pyplot\n",
        "plt.figure(figsize=(10,10))\n",
        "pyplot.boxplot([score_regr,score_model])\n",
        "pyplot.show()"
      ],
      "metadata": {
        "colab": {
          "base_uri": "https://localhost:8080/",
          "height": 592
        },
        "id": "-cOCfh0GGUs8",
        "outputId": "4546ebe8-c4d6-437d-a362-9910983ac284"
      },
      "execution_count": null,
      "outputs": [
        {
          "output_type": "display_data",
          "data": {
            "text/plain": [
              "<Figure size 720x720 with 1 Axes>"
            ],
            "image/png": "[encoded data removed]"
          },
          "metadata": {
            "needs_background": "light"
          }
        }
      ]
    },
    {
      "cell_type": "markdown",
      "metadata": {
        "id": "YPgT8O5FV-uZ"
      },
      "source": [
        "### References:\n",
        "\n",
        "[1] Kaggle.com. 2022. AUSTRALIA AND INVESTIGATIVE SPECIAL WILDFIRES DATA. [online] Available at: <https://www.kaggle.com/datasets/brsdincer/australia-and-investigative-special-wildfires-data> [Accessed 22 June 2022].\n",
        "\n",
        "[2] Maksym Taranukhin, “CSCI 4146/6409 Process of Data Science Tutorial 2.” Summer Term, Dalhousie\n",
        "University, [online document], 2022. [Accessed 22 June 2022]\n",
        "\n",
        "[3] DataFrame, I. and Singh, G., 2022. Import multiple csv files into pandas and concatenate into one DataFrame. [online] Stack Overflow. Available at: <https://stackoverflow.com/questions/20906474/import-multiple-csv-files-into-pandas-and-concatenate-into-one-dataframe> [Accessed 22 June 2022].\n",
        "\n",
        "[4] Seaborn.pydata.org. 2022. seaborn.heatmap — seaborn 0.11.2 documentation. [online] Available at: <https://seaborn.pydata.org/generated/seaborn.heatmap.html> [Accessed 22 June 2022\n",
        "\n",
        "[5] \"Folium — Folium 0.12.1 documentation\", Python-visualization.github.io, 2022. [Online]. Available: https://python-visualization.github.io/folium/. [Accessed: 22- Jun- 2022].\n",
        "\n",
        "[6] \"Centre of Australia States and Territories | Geoscience Australia\", Ga.gov.au, 2022. [Online]. Available: https://www.ga.gov.au/scientific-topics/national-location-information/dimensions/centre-of-australia-states-territories . [Accessed: 22- Jun- 2022].\n",
        "\n",
        "[7] Pandas.pydata.org. 2022. pandas.Grouper — pandas 1.4.2 documentation. [online] Available at: <https://pandas.pydata.org/pandas-docs/stable/reference/api/pandas.Grouper.html> [Accessed 22 June 2022].\n",
        "\n",
        "[8] Heatmaps, F., Hansen, D., Hansen, D. and Azevedo, W., 2022. Folium Heatmaps. [online] Stack Overflow. Available at: <https://stackoverflow.com/questions/61301081/folium-heatmaps> [Accessed 22 June 2022].\n",
        "\n",
        "[9] Medium. 2022. Map Latitude and Longitude Coordinates with Folium. [online] Available at: <https://python.plainenglish.io/using-folium-to-map-latitude-and-longitude-491f8dcc81ad?gi=8ac091e88876> [Accessed 22 June 2022].\n",
        "\n",
        "[10] dates, S. and Jose, C., 2022. Select DataFrame rows between two dates. [online] Stack Overflow. Available at: <https://stackoverflow.com/questions/29370057/select-dataframe-rows-between-two-dates> [Accessed 22 June 2022].\n",
        "\n",
        "[11] \"What is One Hot Encoding? Why and When Do You Have to Use it? | HackerNoon\", Hackernoon.com, 2022. [Online]. Available: \n",
        "https://hackernoon.com/what-is-one-hot-encoding-why-and-when-do-you-have-to-use-it-e3c6186d008f [Accessed: 22- Jun- 2022].\n",
        "\n",
        "[12] J.  Brownlee, \"How to Calculate Correlation Between Variables in Python\", Machine Learning Mastery, 2022. [Online]. Available: \n",
        "https://machinelearningmastery.com/how-to-use-correlation-to-understand-the-relationship-between-variables/ [Accessed: 23- Jun- 2022].\n",
        "\n",
        "[13] Root Mean Squared Error, 2022, [online] Stack Overflow. Available at: <https://www.sciencedirect.com/topics/engineering/root-mean-squared-error> [Accessed 22 June 2022].\n",
        "\n",
        "[14] Analytics Vidhya. 2022. Evaluation Metrics Machine Learning. [online] Available at: <https://www.analyticsvidhya.com/blog/2019/08/11-important-model-evaluation-error-metrics/> [Accessed 22 June 2022].\n",
        "\n",
        "\n",
        "[15] En.wikipedia.org. 2022. Mean absolute error - Wikipedia. [online] Available at: <https://en.wikipedia.org/wiki/Mean_absolute_error> [Accessed 22 June 2022].\n",
        "\n",
        "[16] Ufuk, U., 2022. Learning Curves in Linear & Polynomial Regression. [online] Utku's Blog. Available at: <https://utkuufuk.com/2018/05/04/learning-curves/> [Accessed 22 June 2022].\n",
        "\n",
        "[17] Saedsayad.com. 2022. *Decision Tree Regression*\n",
        ". [online] Available at: <https://www.saedsayad.com/decision_tree_reg.htm#:~:text=Decision tree builds regression or,decision nodes and leaf nodes.> [Accessed 22 June 2022].\n",
        "\n",
        "[18] sklearn, U. and Muller, J., 2022. *Using decision tree regression and cross-validation in sklearn*\n",
        ". [online] Stack Overflow. Available at: <https://stackoverflow.com/questions/44682307/using-decision-tree-regression-and-cross-validation-in-sklearn> [Accessed 22 June 2022].\n",
        "\n",
        "[19] Raschka, S., 2022. paired_ttest_resample: Resampled paired *t* test - mlxtend. [online] Rasbt.github.io. Available at: <http://rasbt.github.io/mlxtend/user_guide/evaluate/paired_ttest_resampled/> [Accessed 22 June 2022]."
      ]
    }
  ],
  "metadata": {
    "colab": {
      "name": "CSCI_4146_6409_Assignment_1.ipynb",
      "provenance": [],
      "collapsed_sections": [
        "V0IqkU8MVuAW",
        "9B00MPhTREKO",
        "YPgT8O5FV-uZ"
      ]
    },
    "kernelspec": {
      "display_name": "Python 3",
      "name": "python3"
    },
    "gpuClass": "standard"
  },
  "nbformat": 4,
  "nbformat_minor": 0
}